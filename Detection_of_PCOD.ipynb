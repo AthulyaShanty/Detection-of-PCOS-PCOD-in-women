{
 "cells": [
  {
   "cell_type": "markdown",
   "metadata": {},
   "source": [
    "# <center>DETECTION & CLASSIFICATION OF PCOD/PCOS"
   ]
  },
  {
   "cell_type": "markdown",
   "metadata": {},
   "source": [
    "> ### <center>Athulya Shanty - 2048030"
   ]
  },
  {
   "cell_type": "markdown",
   "metadata": {},
   "source": [
    "> ### About PCOD/PCOS\n",
    ">Polycystic ovarian syndrome or disease (PCOS/PCOD) is a hormonal disorder that affects women in their reproductive age. PCOS is a common health condition that affects teen and young women.It can cause problems with menstrual periods and make it difficult for her to conceive. The principal features include no ovulation, irregular periods, acne and hirsutism. If not treated it can cause insulin resistant diabetes, obesity and high cholesterol leading to heart disease."
   ]
  },
  {
   "cell_type": "markdown",
   "metadata": {},
   "source": [
    "> ### About the Data\n",
    ">The data is collected from people(females) living across the world. The source of data collection was primary\n",
    "and was carried out using Google forms. The google form contained 6 sections such as the main section,Personal details,Symptoms,Personal details & history, lifestyle and Medical history."
   ]
  },
  {
   "cell_type": "markdown",
   "metadata": {},
   "source": [
    ">### <center>Importing required packages"
   ]
  },
  {
   "cell_type": "code",
   "execution_count": 1,
   "metadata": {},
   "outputs": [],
   "source": [
    "import pandas as pd\n",
    "import numpy as np\n",
    "import seaborn as sns\n",
    "import matplotlib.pyplot as plt\n",
    "from sklearn.model_selection import train_test_split\n",
    "from sklearn.naive_bayes import GaussianNB\n",
    "from sklearn.linear_model import LogisticRegression\n",
    "from sklearn.metrics import confusion_matrix, accuracy_score,recall_score, roc_curve, auc\n",
    "from sklearn import neighbors\n",
    "from sklearn.metrics import plot_confusion_matrix\n",
    "from sklearn.ensemble import RandomForestClassifier\n",
    "from sklearn import tree"
   ]
  },
  {
   "cell_type": "markdown",
   "metadata": {},
   "source": [
    ">### <center>Loading Dataset"
   ]
  },
  {
   "cell_type": "code",
   "execution_count": 2,
   "metadata": {},
   "outputs": [
    {
     "data": {
      "text/html": [
       "<div>\n",
       "<style scoped>\n",
       "    .dataframe tbody tr th:only-of-type {\n",
       "        vertical-align: middle;\n",
       "    }\n",
       "\n",
       "    .dataframe tbody tr th {\n",
       "        vertical-align: top;\n",
       "    }\n",
       "\n",
       "    .dataframe thead th {\n",
       "        text-align: right;\n",
       "    }\n",
       "</style>\n",
       "<table border=\"1\" class=\"dataframe\">\n",
       "  <thead>\n",
       "    <tr style=\"text-align: right;\">\n",
       "      <th></th>\n",
       "      <th>Timestamp</th>\n",
       "      <th>What is your name?</th>\n",
       "      <th>Select your Gender</th>\n",
       "      <th>Pick your age limit</th>\n",
       "      <th>How would you describe your Body Physic ?</th>\n",
       "      <th>Have you done an ultrasound abdomen scanning and what does your report say?</th>\n",
       "      <th>Do you notice any of these right before your period begins?</th>\n",
       "      <th>Are you experiencing irregular or late periods?</th>\n",
       "      <th>Are you experiencing painful periods?</th>\n",
       "      <th>Are you experiencing  Excessive bleeding?</th>\n",
       "      <th>...</th>\n",
       "      <th>Do you exercise regularly?</th>\n",
       "      <th>Is your mother diagnosed with PCOS/PCOD?</th>\n",
       "      <th>Do you suffer from diabetes?</th>\n",
       "      <th>Do you suffer from Hypothyroidism?</th>\n",
       "      <th>Do you experience excessive growth of facial and body hair?</th>\n",
       "      <th>Do you have Acne/ Hyper-pigmentation?</th>\n",
       "      <th>What is your marital status</th>\n",
       "      <th>How many kids do you have?</th>\n",
       "      <th>Which work profile matches yours?</th>\n",
       "      <th>Are you diagnosed with PCOD/PCOS?</th>\n",
       "    </tr>\n",
       "  </thead>\n",
       "  <tbody>\n",
       "    <tr>\n",
       "      <th>0</th>\n",
       "      <td>2021-04-06 20:36:51.022</td>\n",
       "      <td>Merin</td>\n",
       "      <td>Female</td>\n",
       "      <td>19-34</td>\n",
       "      <td>I am at a healthy weight</td>\n",
       "      <td>No scanning was done</td>\n",
       "      <td>Mood swings</td>\n",
       "      <td>Yes</td>\n",
       "      <td>Yes</td>\n",
       "      <td>Yes</td>\n",
       "      <td>...</td>\n",
       "      <td>No</td>\n",
       "      <td>No</td>\n",
       "      <td>No</td>\n",
       "      <td>No</td>\n",
       "      <td>No</td>\n",
       "      <td>No</td>\n",
       "      <td>NaN</td>\n",
       "      <td>NaN</td>\n",
       "      <td>NaN</td>\n",
       "      <td>NaN</td>\n",
       "    </tr>\n",
       "    <tr>\n",
       "      <th>1</th>\n",
       "      <td>2021-04-06 20:37:07.277</td>\n",
       "      <td>Sophya jayaraj</td>\n",
       "      <td>Female</td>\n",
       "      <td>19-34</td>\n",
       "      <td>I am at a healthy weight</td>\n",
       "      <td>No scanning was done</td>\n",
       "      <td>Bloating</td>\n",
       "      <td>No</td>\n",
       "      <td>Yes</td>\n",
       "      <td>No</td>\n",
       "      <td>...</td>\n",
       "      <td>Yes</td>\n",
       "      <td>No</td>\n",
       "      <td>No</td>\n",
       "      <td>No</td>\n",
       "      <td>No</td>\n",
       "      <td>No</td>\n",
       "      <td>NaN</td>\n",
       "      <td>NaN</td>\n",
       "      <td>NaN</td>\n",
       "      <td>NaN</td>\n",
       "    </tr>\n",
       "    <tr>\n",
       "      <th>2</th>\n",
       "      <td>2021-04-06 20:37:23.643</td>\n",
       "      <td>NEENA RAJAN</td>\n",
       "      <td>Female</td>\n",
       "      <td>19-34</td>\n",
       "      <td>I am at a healthy weight</td>\n",
       "      <td>No scanning was done</td>\n",
       "      <td>None</td>\n",
       "      <td>No</td>\n",
       "      <td>No</td>\n",
       "      <td>No</td>\n",
       "      <td>...</td>\n",
       "      <td>No</td>\n",
       "      <td>No</td>\n",
       "      <td>No</td>\n",
       "      <td>No</td>\n",
       "      <td>No</td>\n",
       "      <td>No</td>\n",
       "      <td>NaN</td>\n",
       "      <td>NaN</td>\n",
       "      <td>NaN</td>\n",
       "      <td>NaN</td>\n",
       "    </tr>\n",
       "    <tr>\n",
       "      <th>3</th>\n",
       "      <td>2021-04-06 20:37:23.938</td>\n",
       "      <td>Dhamini Nijgal</td>\n",
       "      <td>Female</td>\n",
       "      <td>19-34</td>\n",
       "      <td>I am a bit overweight</td>\n",
       "      <td>No scanning was done</td>\n",
       "      <td>Mood swings</td>\n",
       "      <td>Yes</td>\n",
       "      <td>Yes</td>\n",
       "      <td>Yes</td>\n",
       "      <td>...</td>\n",
       "      <td>No</td>\n",
       "      <td>No</td>\n",
       "      <td>No</td>\n",
       "      <td>No</td>\n",
       "      <td>No</td>\n",
       "      <td>No</td>\n",
       "      <td>NaN</td>\n",
       "      <td>NaN</td>\n",
       "      <td>NaN</td>\n",
       "      <td>NaN</td>\n",
       "    </tr>\n",
       "    <tr>\n",
       "      <th>4</th>\n",
       "      <td>2021-04-06 20:37:56.015</td>\n",
       "      <td>Ashritha</td>\n",
       "      <td>Female</td>\n",
       "      <td>19-34</td>\n",
       "      <td>I am obese</td>\n",
       "      <td>Normal results</td>\n",
       "      <td>Constipation</td>\n",
       "      <td>No</td>\n",
       "      <td>No</td>\n",
       "      <td>Yes</td>\n",
       "      <td>...</td>\n",
       "      <td>Yes</td>\n",
       "      <td>No</td>\n",
       "      <td>No</td>\n",
       "      <td>No</td>\n",
       "      <td>No</td>\n",
       "      <td>No</td>\n",
       "      <td>NaN</td>\n",
       "      <td>NaN</td>\n",
       "      <td>NaN</td>\n",
       "      <td>NaN</td>\n",
       "    </tr>\n",
       "  </tbody>\n",
       "</table>\n",
       "<p>5 rows × 27 columns</p>\n",
       "</div>"
      ],
      "text/plain": [
       "                Timestamp What is your name?  Select your Gender  \\\n",
       "0 2021-04-06 20:36:51.022               Merin             Female   \n",
       "1 2021-04-06 20:37:07.277      Sophya jayaraj             Female   \n",
       "2 2021-04-06 20:37:23.643         NEENA RAJAN             Female   \n",
       "3 2021-04-06 20:37:23.938      Dhamini Nijgal             Female   \n",
       "4 2021-04-06 20:37:56.015            Ashritha             Female   \n",
       "\n",
       "  Pick your age limit How would you describe your Body Physic ?  \\\n",
       "0               19-34                  I am at a healthy weight   \n",
       "1               19-34                  I am at a healthy weight   \n",
       "2               19-34                  I am at a healthy weight   \n",
       "3               19-34                     I am a bit overweight   \n",
       "4               19-34                                I am obese   \n",
       "\n",
       "  Have you done an ultrasound abdomen scanning and what does your report say?  \\\n",
       "0                               No scanning was done                            \n",
       "1                               No scanning was done                            \n",
       "2                               No scanning was done                            \n",
       "3                               No scanning was done                            \n",
       "4                                     Normal results                            \n",
       "\n",
       "  Do you notice any of these right before your period begins?  \\\n",
       "0                                        Mood swings            \n",
       "1                                           Bloating            \n",
       "2                                               None            \n",
       "3                                        Mood swings            \n",
       "4                                       Constipation            \n",
       "\n",
       "  Are you experiencing irregular or late periods?  \\\n",
       "0                                             Yes   \n",
       "1                                              No   \n",
       "2                                              No   \n",
       "3                                             Yes   \n",
       "4                                              No   \n",
       "\n",
       "  Are you experiencing painful periods?  \\\n",
       "0                                   Yes   \n",
       "1                                   Yes   \n",
       "2                                    No   \n",
       "3                                   Yes   \n",
       "4                                    No   \n",
       "\n",
       "  Are you experiencing  Excessive bleeding?                ...                 \\\n",
       "0                                       Yes                ...                  \n",
       "1                                        No                ...                  \n",
       "2                                        No                ...                  \n",
       "3                                       Yes                ...                  \n",
       "4                                       Yes                ...                  \n",
       "\n",
       "  Do you exercise regularly? Is your mother diagnosed with PCOS/PCOD?  \\\n",
       "0                         No                                       No   \n",
       "1                        Yes                                       No   \n",
       "2                         No                                       No   \n",
       "3                         No                                       No   \n",
       "4                        Yes                                       No   \n",
       "\n",
       "  Do you suffer from diabetes? Do you suffer from Hypothyroidism?  \\\n",
       "0                           No                                 No   \n",
       "1                           No                                 No   \n",
       "2                           No                                 No   \n",
       "3                           No                                 No   \n",
       "4                           No                                 No   \n",
       "\n",
       "  Do you experience excessive growth of facial and body hair?  \\\n",
       "0                                                 No            \n",
       "1                                                 No            \n",
       "2                                                 No            \n",
       "3                                                 No            \n",
       "4                                                 No            \n",
       "\n",
       "  Do you have Acne/ Hyper-pigmentation? What is your marital status  \\\n",
       "0                                    No                         NaN   \n",
       "1                                    No                         NaN   \n",
       "2                                    No                         NaN   \n",
       "3                                    No                         NaN   \n",
       "4                                    No                         NaN   \n",
       "\n",
       "  How many kids do you have? Which work profile matches yours?  \\\n",
       "0                        NaN                               NaN   \n",
       "1                        NaN                               NaN   \n",
       "2                        NaN                               NaN   \n",
       "3                        NaN                               NaN   \n",
       "4                        NaN                               NaN   \n",
       "\n",
       "  Are you diagnosed with PCOD/PCOS?  \n",
       "0                               NaN  \n",
       "1                               NaN  \n",
       "2                               NaN  \n",
       "3                               NaN  \n",
       "4                               NaN  \n",
       "\n",
       "[5 rows x 27 columns]"
      ]
     },
     "execution_count": 2,
     "metadata": {},
     "output_type": "execute_result"
    }
   ],
   "source": [
    "#Reading the dataset\n",
    "df=pd.read_excel(r'E:\\files\\Desktop\\2MDS\\MACHINE_LEARNING\\projects\\uncleaned_data.xlsx')\n",
    "df.head()"
   ]
  },
  {
   "cell_type": "markdown",
   "metadata": {},
   "source": [
    "> ### <center>DATA CLEANING\n",
    ">1.Renaming lengthy column names\n",
    "\n",
    ">2.Removing Duplicates\n",
    "    \n",
    ">3.Removal of Unwanted observations and variables\n",
    "\n",
    ">4.Handling Missing Data\n",
    "\n",
    ">5.Splitting the dataset into 2 dataframes for modeling and prediction.\n",
    "\n",
    ">6.Exporting the cleaned modeling and predicting dataframes to Excel."
   ]
  },
  {
   "cell_type": "markdown",
   "metadata": {},
   "source": [
    ">#### 1.Renaming lengthy column names"
   ]
  },
  {
   "cell_type": "markdown",
   "metadata": {},
   "source": [
    ">For convenience let's rename the longer columns to shorter"
   ]
  },
  {
   "cell_type": "code",
   "execution_count": 3,
   "metadata": {},
   "outputs": [],
   "source": [
    "renamed={'What is your name? ':'name',\n",
    "         'Select your Gender':'gender',\n",
    "         'Pick your age limit':'age',\n",
    "         'How would you describe your Body Physic ?':'body_type',\n",
    "         'Have you done an ultrasound abdomen scanning and what does your report say?':'scanning',\n",
    "         'Do you notice any of these right before your period begins?':'before_period',\n",
    "         'Are you experiencing irregular or late periods?':'irregular_period',\n",
    "         'Are you experiencing painful periods?':'painful_period',\n",
    "         'Are you experiencing  Excessive bleeding?':'bleeding',\n",
    "         'How often do you get your periods?':'period_cycle',\n",
    "         'How long does your period last?':'period_duration',\n",
    "         'How would you like to rate your period pains':'period_pain',\n",
    "         'Do you notice any clots during your periods?':'clots',\n",
    "         'Do you have the habit of consuming alcohol?':'alcohol',\n",
    "         'Do you have the habit of smoking?':'smoking',\n",
    "         'Are you under any stress?':'stress',\n",
    "         'Do you exercise regularly?':'exercise',\n",
    "         'Is your mother diagnosed with PCOS/PCOD?':'Hereditary',\n",
    "         'Do you suffer from diabetes?':'diabetes',\n",
    "         'Do you suffer from Hypothyroidism?':'hypothyroidism',\n",
    "         'Do you experience excessive growth of facial and body hair?':'hair_growth',\n",
    "         'Do you have Acne/ Hyper-pigmentation?':'acne',\n",
    "         'What is your marital status':'marital_status',\n",
    "         'How many kids do you have?':'kids',\n",
    "         'Which work profile matches yours?':'work',\n",
    "         'Are you diagnosed with PCOD/PCOS?':'diagnosis'}"
   ]
  },
  {
   "cell_type": "code",
   "execution_count": 4,
   "metadata": {},
   "outputs": [
    {
     "data": {
      "text/html": [
       "<div>\n",
       "<style scoped>\n",
       "    .dataframe tbody tr th:only-of-type {\n",
       "        vertical-align: middle;\n",
       "    }\n",
       "\n",
       "    .dataframe tbody tr th {\n",
       "        vertical-align: top;\n",
       "    }\n",
       "\n",
       "    .dataframe thead th {\n",
       "        text-align: right;\n",
       "    }\n",
       "</style>\n",
       "<table border=\"1\" class=\"dataframe\">\n",
       "  <thead>\n",
       "    <tr style=\"text-align: right;\">\n",
       "      <th></th>\n",
       "      <th>Timestamp</th>\n",
       "      <th>name</th>\n",
       "      <th>gender</th>\n",
       "      <th>age</th>\n",
       "      <th>body_type</th>\n",
       "      <th>scanning</th>\n",
       "      <th>before_period</th>\n",
       "      <th>irregular_period</th>\n",
       "      <th>painful_period</th>\n",
       "      <th>bleeding</th>\n",
       "      <th>...</th>\n",
       "      <th>exercise</th>\n",
       "      <th>Hereditary</th>\n",
       "      <th>diabetes</th>\n",
       "      <th>hypothyroidism</th>\n",
       "      <th>hair_growth</th>\n",
       "      <th>acne</th>\n",
       "      <th>marital_status</th>\n",
       "      <th>kids</th>\n",
       "      <th>work</th>\n",
       "      <th>diagnosis</th>\n",
       "    </tr>\n",
       "  </thead>\n",
       "  <tbody>\n",
       "    <tr>\n",
       "      <th>0</th>\n",
       "      <td>2021-04-06 20:36:51.022</td>\n",
       "      <td>Merin</td>\n",
       "      <td>Female</td>\n",
       "      <td>19-34</td>\n",
       "      <td>I am at a healthy weight</td>\n",
       "      <td>No scanning was done</td>\n",
       "      <td>Mood swings</td>\n",
       "      <td>Yes</td>\n",
       "      <td>Yes</td>\n",
       "      <td>Yes</td>\n",
       "      <td>...</td>\n",
       "      <td>No</td>\n",
       "      <td>No</td>\n",
       "      <td>No</td>\n",
       "      <td>No</td>\n",
       "      <td>No</td>\n",
       "      <td>No</td>\n",
       "      <td>NaN</td>\n",
       "      <td>NaN</td>\n",
       "      <td>NaN</td>\n",
       "      <td>NaN</td>\n",
       "    </tr>\n",
       "    <tr>\n",
       "      <th>1</th>\n",
       "      <td>2021-04-06 20:37:07.277</td>\n",
       "      <td>Sophya jayaraj</td>\n",
       "      <td>Female</td>\n",
       "      <td>19-34</td>\n",
       "      <td>I am at a healthy weight</td>\n",
       "      <td>No scanning was done</td>\n",
       "      <td>Bloating</td>\n",
       "      <td>No</td>\n",
       "      <td>Yes</td>\n",
       "      <td>No</td>\n",
       "      <td>...</td>\n",
       "      <td>Yes</td>\n",
       "      <td>No</td>\n",
       "      <td>No</td>\n",
       "      <td>No</td>\n",
       "      <td>No</td>\n",
       "      <td>No</td>\n",
       "      <td>NaN</td>\n",
       "      <td>NaN</td>\n",
       "      <td>NaN</td>\n",
       "      <td>NaN</td>\n",
       "    </tr>\n",
       "    <tr>\n",
       "      <th>2</th>\n",
       "      <td>2021-04-06 20:37:23.643</td>\n",
       "      <td>NEENA RAJAN</td>\n",
       "      <td>Female</td>\n",
       "      <td>19-34</td>\n",
       "      <td>I am at a healthy weight</td>\n",
       "      <td>No scanning was done</td>\n",
       "      <td>None</td>\n",
       "      <td>No</td>\n",
       "      <td>No</td>\n",
       "      <td>No</td>\n",
       "      <td>...</td>\n",
       "      <td>No</td>\n",
       "      <td>No</td>\n",
       "      <td>No</td>\n",
       "      <td>No</td>\n",
       "      <td>No</td>\n",
       "      <td>No</td>\n",
       "      <td>NaN</td>\n",
       "      <td>NaN</td>\n",
       "      <td>NaN</td>\n",
       "      <td>NaN</td>\n",
       "    </tr>\n",
       "    <tr>\n",
       "      <th>3</th>\n",
       "      <td>2021-04-06 20:37:23.938</td>\n",
       "      <td>Dhamini Nijgal</td>\n",
       "      <td>Female</td>\n",
       "      <td>19-34</td>\n",
       "      <td>I am a bit overweight</td>\n",
       "      <td>No scanning was done</td>\n",
       "      <td>Mood swings</td>\n",
       "      <td>Yes</td>\n",
       "      <td>Yes</td>\n",
       "      <td>Yes</td>\n",
       "      <td>...</td>\n",
       "      <td>No</td>\n",
       "      <td>No</td>\n",
       "      <td>No</td>\n",
       "      <td>No</td>\n",
       "      <td>No</td>\n",
       "      <td>No</td>\n",
       "      <td>NaN</td>\n",
       "      <td>NaN</td>\n",
       "      <td>NaN</td>\n",
       "      <td>NaN</td>\n",
       "    </tr>\n",
       "    <tr>\n",
       "      <th>4</th>\n",
       "      <td>2021-04-06 20:37:56.015</td>\n",
       "      <td>Ashritha</td>\n",
       "      <td>Female</td>\n",
       "      <td>19-34</td>\n",
       "      <td>I am obese</td>\n",
       "      <td>Normal results</td>\n",
       "      <td>Constipation</td>\n",
       "      <td>No</td>\n",
       "      <td>No</td>\n",
       "      <td>Yes</td>\n",
       "      <td>...</td>\n",
       "      <td>Yes</td>\n",
       "      <td>No</td>\n",
       "      <td>No</td>\n",
       "      <td>No</td>\n",
       "      <td>No</td>\n",
       "      <td>No</td>\n",
       "      <td>NaN</td>\n",
       "      <td>NaN</td>\n",
       "      <td>NaN</td>\n",
       "      <td>NaN</td>\n",
       "    </tr>\n",
       "  </tbody>\n",
       "</table>\n",
       "<p>5 rows × 27 columns</p>\n",
       "</div>"
      ],
      "text/plain": [
       "                Timestamp            name  gender    age  \\\n",
       "0 2021-04-06 20:36:51.022           Merin  Female  19-34   \n",
       "1 2021-04-06 20:37:07.277  Sophya jayaraj  Female  19-34   \n",
       "2 2021-04-06 20:37:23.643     NEENA RAJAN  Female  19-34   \n",
       "3 2021-04-06 20:37:23.938  Dhamini Nijgal  Female  19-34   \n",
       "4 2021-04-06 20:37:56.015        Ashritha  Female  19-34   \n",
       "\n",
       "                  body_type              scanning before_period  \\\n",
       "0  I am at a healthy weight  No scanning was done   Mood swings   \n",
       "1  I am at a healthy weight  No scanning was done      Bloating   \n",
       "2  I am at a healthy weight  No scanning was done          None   \n",
       "3     I am a bit overweight  No scanning was done   Mood swings   \n",
       "4                I am obese        Normal results  Constipation   \n",
       "\n",
       "  irregular_period painful_period bleeding    ...    exercise Hereditary  \\\n",
       "0              Yes            Yes      Yes    ...          No         No   \n",
       "1               No            Yes       No    ...         Yes         No   \n",
       "2               No             No       No    ...          No         No   \n",
       "3              Yes            Yes      Yes    ...          No         No   \n",
       "4               No             No      Yes    ...         Yes         No   \n",
       "\n",
       "  diabetes hypothyroidism hair_growth acne marital_status kids work diagnosis  \n",
       "0       No             No          No   No            NaN  NaN  NaN       NaN  \n",
       "1       No             No          No   No            NaN  NaN  NaN       NaN  \n",
       "2       No             No          No   No            NaN  NaN  NaN       NaN  \n",
       "3       No             No          No   No            NaN  NaN  NaN       NaN  \n",
       "4       No             No          No   No            NaN  NaN  NaN       NaN  \n",
       "\n",
       "[5 rows x 27 columns]"
      ]
     },
     "execution_count": 4,
     "metadata": {},
     "output_type": "execute_result"
    }
   ],
   "source": [
    "df.rename(renamed, axis='columns', inplace=True)\n",
    "df.head()"
   ]
  },
  {
   "cell_type": "markdown",
   "metadata": {},
   "source": [
    "> #### 2.Removing Duplicates"
   ]
  },
  {
   "cell_type": "code",
   "execution_count": 5,
   "metadata": {},
   "outputs": [
    {
     "data": {
      "text/plain": [
       "(882, 27)"
      ]
     },
     "execution_count": 5,
     "metadata": {},
     "output_type": "execute_result"
    }
   ],
   "source": [
    "df.shape"
   ]
  },
  {
   "cell_type": "markdown",
   "metadata": {},
   "source": [
    ">There are 882 observations and 27 variables."
   ]
  },
  {
   "cell_type": "code",
   "execution_count": 6,
   "metadata": {},
   "outputs": [
    {
     "data": {
      "text/plain": [
       "(763, 27)"
      ]
     },
     "execution_count": 6,
     "metadata": {},
     "output_type": "execute_result"
    }
   ],
   "source": [
    "#Removing duplicates\n",
    "df=df.drop_duplicates(subset=['name'])\n",
    "df.shape"
   ]
  },
  {
   "cell_type": "code",
   "execution_count": 7,
   "metadata": {},
   "outputs": [
    {
     "data": {
      "text/plain": [
       "119"
      ]
     },
     "execution_count": 7,
     "metadata": {},
     "output_type": "execute_result"
    }
   ],
   "source": [
    "882-763"
   ]
  },
  {
   "cell_type": "markdown",
   "metadata": {},
   "source": [
    "> Out of 882 records, 119 records were duplicates and they have been removed."
   ]
  },
  {
   "cell_type": "markdown",
   "metadata": {},
   "source": [
    ">#### 3.Removal of Unwanted observations and variables"
   ]
  },
  {
   "cell_type": "code",
   "execution_count": 8,
   "metadata": {},
   "outputs": [],
   "source": [
    "#Removing males and other categories from gender variable.\n",
    "df.drop(df[df['gender'] == 'Male'].index, inplace = True)\n",
    "df.drop(df[df['gender'] == 'Other'].index, inplace = True)"
   ]
  },
  {
   "cell_type": "code",
   "execution_count": 9,
   "metadata": {},
   "outputs": [
    {
     "data": {
      "text/plain": [
       "(723, 27)"
      ]
     },
     "execution_count": 9,
     "metadata": {},
     "output_type": "execute_result"
    }
   ],
   "source": [
    "df.shape"
   ]
  },
  {
   "cell_type": "markdown",
   "metadata": {},
   "source": [
    ">Males and others have been removed from the dataset. The new dataset consists of only females."
   ]
  },
  {
   "cell_type": "code",
   "execution_count": 10,
   "metadata": {},
   "outputs": [
    {
     "data": {
      "text/plain": [
       "(723, 24)"
      ]
     },
     "execution_count": 10,
     "metadata": {},
     "output_type": "execute_result"
    }
   ],
   "source": [
    "df=df.drop(['Timestamp','name','gender'],axis=1)\n",
    "df.shape"
   ]
  },
  {
   "cell_type": "markdown",
   "metadata": {},
   "source": [
    ">Unwanted columns were removed from the dataset."
   ]
  },
  {
   "cell_type": "markdown",
   "metadata": {},
   "source": [
    ">Now let's have a look on the resultant dataset"
   ]
  },
  {
   "cell_type": "code",
   "execution_count": 11,
   "metadata": {
    "scrolled": false
   },
   "outputs": [
    {
     "data": {
      "text/html": [
       "<div>\n",
       "<style scoped>\n",
       "    .dataframe tbody tr th:only-of-type {\n",
       "        vertical-align: middle;\n",
       "    }\n",
       "\n",
       "    .dataframe tbody tr th {\n",
       "        vertical-align: top;\n",
       "    }\n",
       "\n",
       "    .dataframe thead th {\n",
       "        text-align: right;\n",
       "    }\n",
       "</style>\n",
       "<table border=\"1\" class=\"dataframe\">\n",
       "  <thead>\n",
       "    <tr style=\"text-align: right;\">\n",
       "      <th></th>\n",
       "      <th>age</th>\n",
       "      <th>body_type</th>\n",
       "      <th>scanning</th>\n",
       "      <th>before_period</th>\n",
       "      <th>irregular_period</th>\n",
       "      <th>painful_period</th>\n",
       "      <th>bleeding</th>\n",
       "      <th>period_cycle</th>\n",
       "      <th>period_duration</th>\n",
       "      <th>period_pain</th>\n",
       "      <th>...</th>\n",
       "      <th>exercise</th>\n",
       "      <th>Hereditary</th>\n",
       "      <th>diabetes</th>\n",
       "      <th>hypothyroidism</th>\n",
       "      <th>hair_growth</th>\n",
       "      <th>acne</th>\n",
       "      <th>marital_status</th>\n",
       "      <th>kids</th>\n",
       "      <th>work</th>\n",
       "      <th>diagnosis</th>\n",
       "    </tr>\n",
       "  </thead>\n",
       "  <tbody>\n",
       "    <tr>\n",
       "      <th>0</th>\n",
       "      <td>19-34</td>\n",
       "      <td>I am at a healthy weight</td>\n",
       "      <td>No scanning was done</td>\n",
       "      <td>Mood swings</td>\n",
       "      <td>Yes</td>\n",
       "      <td>Yes</td>\n",
       "      <td>Yes</td>\n",
       "      <td>21-40 days</td>\n",
       "      <td>5-7 days</td>\n",
       "      <td>Severe</td>\n",
       "      <td>...</td>\n",
       "      <td>No</td>\n",
       "      <td>No</td>\n",
       "      <td>No</td>\n",
       "      <td>No</td>\n",
       "      <td>No</td>\n",
       "      <td>No</td>\n",
       "      <td>NaN</td>\n",
       "      <td>NaN</td>\n",
       "      <td>NaN</td>\n",
       "      <td>NaN</td>\n",
       "    </tr>\n",
       "    <tr>\n",
       "      <th>1</th>\n",
       "      <td>19-34</td>\n",
       "      <td>I am at a healthy weight</td>\n",
       "      <td>No scanning was done</td>\n",
       "      <td>Bloating</td>\n",
       "      <td>No</td>\n",
       "      <td>Yes</td>\n",
       "      <td>No</td>\n",
       "      <td>21-40 days</td>\n",
       "      <td>Less than 3 days</td>\n",
       "      <td>Moderate</td>\n",
       "      <td>...</td>\n",
       "      <td>Yes</td>\n",
       "      <td>No</td>\n",
       "      <td>No</td>\n",
       "      <td>No</td>\n",
       "      <td>No</td>\n",
       "      <td>No</td>\n",
       "      <td>NaN</td>\n",
       "      <td>NaN</td>\n",
       "      <td>NaN</td>\n",
       "      <td>NaN</td>\n",
       "    </tr>\n",
       "    <tr>\n",
       "      <th>2</th>\n",
       "      <td>19-34</td>\n",
       "      <td>I am at a healthy weight</td>\n",
       "      <td>No scanning was done</td>\n",
       "      <td>None</td>\n",
       "      <td>No</td>\n",
       "      <td>No</td>\n",
       "      <td>No</td>\n",
       "      <td>21-40 days</td>\n",
       "      <td>5-7 days</td>\n",
       "      <td>Moderate</td>\n",
       "      <td>...</td>\n",
       "      <td>No</td>\n",
       "      <td>No</td>\n",
       "      <td>No</td>\n",
       "      <td>No</td>\n",
       "      <td>No</td>\n",
       "      <td>No</td>\n",
       "      <td>NaN</td>\n",
       "      <td>NaN</td>\n",
       "      <td>NaN</td>\n",
       "      <td>NaN</td>\n",
       "    </tr>\n",
       "    <tr>\n",
       "      <th>3</th>\n",
       "      <td>19-34</td>\n",
       "      <td>I am a bit overweight</td>\n",
       "      <td>No scanning was done</td>\n",
       "      <td>Mood swings</td>\n",
       "      <td>Yes</td>\n",
       "      <td>Yes</td>\n",
       "      <td>Yes</td>\n",
       "      <td>21-40 days</td>\n",
       "      <td>3-5 days</td>\n",
       "      <td>Severe</td>\n",
       "      <td>...</td>\n",
       "      <td>No</td>\n",
       "      <td>No</td>\n",
       "      <td>No</td>\n",
       "      <td>No</td>\n",
       "      <td>No</td>\n",
       "      <td>No</td>\n",
       "      <td>NaN</td>\n",
       "      <td>NaN</td>\n",
       "      <td>NaN</td>\n",
       "      <td>NaN</td>\n",
       "    </tr>\n",
       "    <tr>\n",
       "      <th>4</th>\n",
       "      <td>19-34</td>\n",
       "      <td>I am obese</td>\n",
       "      <td>Normal results</td>\n",
       "      <td>Constipation</td>\n",
       "      <td>No</td>\n",
       "      <td>No</td>\n",
       "      <td>Yes</td>\n",
       "      <td>21-40 days</td>\n",
       "      <td>3-5 days</td>\n",
       "      <td>Moderate</td>\n",
       "      <td>...</td>\n",
       "      <td>Yes</td>\n",
       "      <td>No</td>\n",
       "      <td>No</td>\n",
       "      <td>No</td>\n",
       "      <td>No</td>\n",
       "      <td>No</td>\n",
       "      <td>NaN</td>\n",
       "      <td>NaN</td>\n",
       "      <td>NaN</td>\n",
       "      <td>NaN</td>\n",
       "    </tr>\n",
       "    <tr>\n",
       "      <th>5</th>\n",
       "      <td>19-34</td>\n",
       "      <td>I am obese</td>\n",
       "      <td>No scanning was done</td>\n",
       "      <td>Breast pain</td>\n",
       "      <td>No</td>\n",
       "      <td>Yes</td>\n",
       "      <td>No</td>\n",
       "      <td>21-40 days</td>\n",
       "      <td>5-7 days</td>\n",
       "      <td>Severe</td>\n",
       "      <td>...</td>\n",
       "      <td>No</td>\n",
       "      <td>No</td>\n",
       "      <td>No</td>\n",
       "      <td>No</td>\n",
       "      <td>No</td>\n",
       "      <td>No</td>\n",
       "      <td>NaN</td>\n",
       "      <td>NaN</td>\n",
       "      <td>NaN</td>\n",
       "      <td>NaN</td>\n",
       "    </tr>\n",
       "    <tr>\n",
       "      <th>6</th>\n",
       "      <td>19-34</td>\n",
       "      <td>I am at a healthy weight</td>\n",
       "      <td>No scanning was done</td>\n",
       "      <td>Diarrhoea</td>\n",
       "      <td>No</td>\n",
       "      <td>Yes</td>\n",
       "      <td>No</td>\n",
       "      <td>21-40 days</td>\n",
       "      <td>3-5 days</td>\n",
       "      <td>Moderate</td>\n",
       "      <td>...</td>\n",
       "      <td>No</td>\n",
       "      <td>No</td>\n",
       "      <td>No</td>\n",
       "      <td>No</td>\n",
       "      <td>No</td>\n",
       "      <td>No</td>\n",
       "      <td>NaN</td>\n",
       "      <td>NaN</td>\n",
       "      <td>NaN</td>\n",
       "      <td>NaN</td>\n",
       "    </tr>\n",
       "    <tr>\n",
       "      <th>8</th>\n",
       "      <td>19-34</td>\n",
       "      <td>I am at a healthy weight</td>\n",
       "      <td>Normal results</td>\n",
       "      <td>None</td>\n",
       "      <td>No</td>\n",
       "      <td>No</td>\n",
       "      <td>No</td>\n",
       "      <td>21-40 days</td>\n",
       "      <td>5-7 days</td>\n",
       "      <td>Mild</td>\n",
       "      <td>...</td>\n",
       "      <td>No</td>\n",
       "      <td>No</td>\n",
       "      <td>No</td>\n",
       "      <td>No</td>\n",
       "      <td>No</td>\n",
       "      <td>No</td>\n",
       "      <td>NaN</td>\n",
       "      <td>NaN</td>\n",
       "      <td>NaN</td>\n",
       "      <td>NaN</td>\n",
       "    </tr>\n",
       "    <tr>\n",
       "      <th>9</th>\n",
       "      <td>19-34</td>\n",
       "      <td>I am at a healthy weight</td>\n",
       "      <td>Cysts in overy</td>\n",
       "      <td>Mood swings</td>\n",
       "      <td>Yes</td>\n",
       "      <td>Yes</td>\n",
       "      <td>Yes</td>\n",
       "      <td>More than 40 days</td>\n",
       "      <td>5-7 days</td>\n",
       "      <td>Moderate</td>\n",
       "      <td>...</td>\n",
       "      <td>No</td>\n",
       "      <td>No</td>\n",
       "      <td>No</td>\n",
       "      <td>No</td>\n",
       "      <td>No</td>\n",
       "      <td>Yes</td>\n",
       "      <td>NaN</td>\n",
       "      <td>NaN</td>\n",
       "      <td>NaN</td>\n",
       "      <td>NaN</td>\n",
       "    </tr>\n",
       "    <tr>\n",
       "      <th>10</th>\n",
       "      <td>19-34</td>\n",
       "      <td>I am at a healthy weight</td>\n",
       "      <td>I don't remember</td>\n",
       "      <td>Headache</td>\n",
       "      <td>Yes</td>\n",
       "      <td>Yes</td>\n",
       "      <td>Yes</td>\n",
       "      <td>21-40 days</td>\n",
       "      <td>5-7 days</td>\n",
       "      <td>Severe</td>\n",
       "      <td>...</td>\n",
       "      <td>No</td>\n",
       "      <td>No</td>\n",
       "      <td>No</td>\n",
       "      <td>No</td>\n",
       "      <td>Yes</td>\n",
       "      <td>No</td>\n",
       "      <td>NaN</td>\n",
       "      <td>NaN</td>\n",
       "      <td>NaN</td>\n",
       "      <td>NaN</td>\n",
       "    </tr>\n",
       "  </tbody>\n",
       "</table>\n",
       "<p>10 rows × 24 columns</p>\n",
       "</div>"
      ],
      "text/plain": [
       "      age                 body_type              scanning before_period  \\\n",
       "0   19-34  I am at a healthy weight  No scanning was done   Mood swings   \n",
       "1   19-34  I am at a healthy weight  No scanning was done      Bloating   \n",
       "2   19-34  I am at a healthy weight  No scanning was done          None   \n",
       "3   19-34     I am a bit overweight  No scanning was done   Mood swings   \n",
       "4   19-34                I am obese        Normal results  Constipation   \n",
       "5   19-34                I am obese  No scanning was done   Breast pain   \n",
       "6   19-34  I am at a healthy weight  No scanning was done     Diarrhoea   \n",
       "8   19-34  I am at a healthy weight        Normal results          None   \n",
       "9   19-34  I am at a healthy weight        Cysts in overy   Mood swings   \n",
       "10  19-34  I am at a healthy weight      I don't remember      Headache   \n",
       "\n",
       "   irregular_period painful_period bleeding       period_cycle  \\\n",
       "0               Yes            Yes      Yes         21-40 days   \n",
       "1                No            Yes       No         21-40 days   \n",
       "2                No             No       No         21-40 days   \n",
       "3               Yes            Yes      Yes         21-40 days   \n",
       "4                No             No      Yes         21-40 days   \n",
       "5                No            Yes       No         21-40 days   \n",
       "6                No            Yes       No         21-40 days   \n",
       "8                No             No       No         21-40 days   \n",
       "9               Yes            Yes      Yes  More than 40 days   \n",
       "10              Yes            Yes      Yes         21-40 days   \n",
       "\n",
       "     period_duration period_pain    ...    exercise Hereditary diabetes  \\\n",
       "0           5-7 days      Severe    ...          No         No       No   \n",
       "1   Less than 3 days    Moderate    ...         Yes         No       No   \n",
       "2           5-7 days    Moderate    ...          No         No       No   \n",
       "3           3-5 days      Severe    ...          No         No       No   \n",
       "4           3-5 days    Moderate    ...         Yes         No       No   \n",
       "5           5-7 days      Severe    ...          No         No       No   \n",
       "6           3-5 days    Moderate    ...          No         No       No   \n",
       "8           5-7 days        Mild    ...          No         No       No   \n",
       "9           5-7 days    Moderate    ...          No         No       No   \n",
       "10          5-7 days      Severe    ...          No         No       No   \n",
       "\n",
       "   hypothyroidism hair_growth acne marital_status kids work diagnosis  \n",
       "0              No          No   No            NaN  NaN  NaN       NaN  \n",
       "1              No          No   No            NaN  NaN  NaN       NaN  \n",
       "2              No          No   No            NaN  NaN  NaN       NaN  \n",
       "3              No          No   No            NaN  NaN  NaN       NaN  \n",
       "4              No          No   No            NaN  NaN  NaN       NaN  \n",
       "5              No          No   No            NaN  NaN  NaN       NaN  \n",
       "6              No          No   No            NaN  NaN  NaN       NaN  \n",
       "8              No          No   No            NaN  NaN  NaN       NaN  \n",
       "9              No          No  Yes            NaN  NaN  NaN       NaN  \n",
       "10             No         Yes   No            NaN  NaN  NaN       NaN  \n",
       "\n",
       "[10 rows x 24 columns]"
      ]
     },
     "execution_count": 11,
     "metadata": {},
     "output_type": "execute_result"
    }
   ],
   "source": [
    "df.head(10)"
   ]
  },
  {
   "cell_type": "code",
   "execution_count": 12,
   "metadata": {},
   "outputs": [
    {
     "data": {
      "text/plain": [
       "(723, 24)"
      ]
     },
     "execution_count": 12,
     "metadata": {},
     "output_type": "execute_result"
    }
   ],
   "source": [
    "df.shape"
   ]
  },
  {
   "cell_type": "markdown",
   "metadata": {},
   "source": [
    ">#### 4.Handling Missing Data"
   ]
  },
  {
   "cell_type": "code",
   "execution_count": 13,
   "metadata": {},
   "outputs": [
    {
     "data": {
      "text/plain": [
       "age                   0\n",
       "body_type             0\n",
       "scanning              0\n",
       "before_period         0\n",
       "irregular_period      0\n",
       "painful_period        0\n",
       "bleeding              0\n",
       "period_cycle          0\n",
       "period_duration       0\n",
       "period_pain           0\n",
       "clots                 0\n",
       "alcohol               0\n",
       "smoking               0\n",
       "stress                0\n",
       "exercise              0\n",
       "Hereditary            0\n",
       "diabetes              0\n",
       "hypothyroidism        0\n",
       "hair_growth           0\n",
       "acne                  0\n",
       "marital_status      289\n",
       "kids                290\n",
       "work                293\n",
       "diagnosis           405\n",
       "dtype: int64"
      ]
     },
     "execution_count": 13,
     "metadata": {},
     "output_type": "execute_result"
    }
   ],
   "source": [
    "#Checking missing values\n",
    "df.isna().sum()"
   ]
  },
  {
   "cell_type": "markdown",
   "metadata": {},
   "source": [
    ">Missing values found! Let's handle the missing values"
   ]
  },
  {
   "cell_type": "code",
   "execution_count": 14,
   "metadata": {},
   "outputs": [],
   "source": [
    "#Filling missing values with 'unknown'\n",
    "df['marital_status']=df['marital_status'].fillna('unknown')\n",
    "df['work']=df['work'].fillna('unknown')\n",
    "df['kids']=df['kids'].fillna('unknown')\n",
    "df['diagnosis']=df['diagnosis'].fillna('Didnt check')"
   ]
  },
  {
   "cell_type": "code",
   "execution_count": 15,
   "metadata": {},
   "outputs": [],
   "source": [
    "#Converting 'kids' column to string \n",
    "df.loc[df['kids'].isin([0]), 'kids'] = 'zero'\n",
    "df.loc[df['kids'].isin([1]), 'kids'] = 'one'\n",
    "df.loc[df['kids'].isin([2]), 'kids'] = 'two'"
   ]
  },
  {
   "cell_type": "markdown",
   "metadata": {},
   "source": [
    ">Missing values are filled with 'unknown'. Also, the 'kids' column has been coverted to string as it contained both strings and numericals."
   ]
  },
  {
   "cell_type": "code",
   "execution_count": 16,
   "metadata": {},
   "outputs": [
    {
     "data": {
      "text/plain": [
       "age                 0\n",
       "body_type           0\n",
       "scanning            0\n",
       "before_period       0\n",
       "irregular_period    0\n",
       "painful_period      0\n",
       "bleeding            0\n",
       "period_cycle        0\n",
       "period_duration     0\n",
       "period_pain         0\n",
       "clots               0\n",
       "alcohol             0\n",
       "smoking             0\n",
       "stress              0\n",
       "exercise            0\n",
       "Hereditary          0\n",
       "diabetes            0\n",
       "hypothyroidism      0\n",
       "hair_growth         0\n",
       "acne                0\n",
       "marital_status      0\n",
       "kids                0\n",
       "work                0\n",
       "diagnosis           0\n",
       "dtype: int64"
      ]
     },
     "execution_count": 16,
     "metadata": {},
     "output_type": "execute_result"
    }
   ],
   "source": [
    "df.isna().sum()"
   ]
  },
  {
   "cell_type": "markdown",
   "metadata": {},
   "source": [
    ">No more missing values are found!"
   ]
  },
  {
   "cell_type": "code",
   "execution_count": 17,
   "metadata": {},
   "outputs": [
    {
     "data": {
      "text/plain": [
       "(723, 24)"
      ]
     },
     "execution_count": 17,
     "metadata": {},
     "output_type": "execute_result"
    }
   ],
   "source": [
    "df.shape"
   ]
  },
  {
   "cell_type": "markdown",
   "metadata": {},
   "source": [
    ">We have a total of 723 observations with 24 variables after data cleaning."
   ]
  },
  {
   "cell_type": "markdown",
   "metadata": {},
   "source": [
    ">#### 5.Splitting the dataset into 2 dataframes for modeling and prediction."
   ]
  },
  {
   "cell_type": "markdown",
   "metadata": {},
   "source": [
    ">We have some observations with both dependent and independent variable whereas some have only independent variables. Let's first split them to modeling data(df1) and predicting data(df2)"
   ]
  },
  {
   "cell_type": "code",
   "execution_count": 18,
   "metadata": {},
   "outputs": [],
   "source": [
    "df2=df1=df"
   ]
  },
  {
   "cell_type": "code",
   "execution_count": 19,
   "metadata": {},
   "outputs": [
    {
     "data": {
      "text/plain": [
       "(511, 23)"
      ]
     },
     "execution_count": 19,
     "metadata": {},
     "output_type": "execute_result"
    }
   ],
   "source": [
    "#Data for prediction\n",
    "df1=df1[df1['diagnosis'] == 'Didnt check']\n",
    "#Dropping diagnosis column of predictive dataset as it contains only 'Didnt check'\n",
    "df1=df1.drop(['diagnosis'],axis=1)\n",
    "df1.shape"
   ]
  },
  {
   "cell_type": "markdown",
   "metadata": {},
   "source": [
    ">We have 511 observations with 23 independent variables for prediction"
   ]
  },
  {
   "cell_type": "code",
   "execution_count": 20,
   "metadata": {},
   "outputs": [
    {
     "data": {
      "text/plain": [
       "(212, 24)"
      ]
     },
     "execution_count": 20,
     "metadata": {},
     "output_type": "execute_result"
    }
   ],
   "source": [
    "#Data for modeling\n",
    "df2.drop(df2[df2['diagnosis'] == 'Didnt check'].index, inplace = True)\n",
    "df2.shape"
   ]
  },
  {
   "cell_type": "markdown",
   "metadata": {},
   "source": [
    ">We have 212 observations with 23 independent and 1 dependent variable for modeling"
   ]
  },
  {
   "cell_type": "markdown",
   "metadata": {},
   "source": [
    ">#### 6.Exporting the cleaned modeling and predicting dataframes to Excel."
   ]
  },
  {
   "cell_type": "code",
   "execution_count": 21,
   "metadata": {},
   "outputs": [],
   "source": [
    "df.to_excel(r'E:\\files\\Desktop\\2MDS\\MACHINE_LEARNING\\projects\\datacleaned.xlsx')"
   ]
  },
  {
   "cell_type": "markdown",
   "metadata": {},
   "source": [
    "> ### <center>DATA PREPROCESSING\n",
    ">1.Finding the numerical and categorical variables\n",
    "\n",
    ">2.Converting Categorical variables to numerical\n",
    "\n",
    ">3.Splitting the dataset into the dependent and independent variables y and X respectively for modelling"
   ]
  },
  {
   "cell_type": "markdown",
   "metadata": {},
   "source": [
    ">#### 1.Finding the numerical and categorical variables"
   ]
  },
  {
   "cell_type": "code",
   "execution_count": 22,
   "metadata": {
    "scrolled": true
   },
   "outputs": [
    {
     "name": "stdout",
     "output_type": "stream",
     "text": [
      "Number of numerical variables:  0\n",
      "[]\n"
     ]
    }
   ],
   "source": [
    "# list of numerical variables\n",
    "numerical = [feature for feature in df.columns if ((df[feature].dtypes != 'O') & (feature not in ['deposit']))]\n",
    "print('Number of numerical variables: ', len(numerical))\n",
    "\n",
    "print(numerical)"
   ]
  },
  {
   "cell_type": "code",
   "execution_count": 23,
   "metadata": {},
   "outputs": [
    {
     "name": "stdout",
     "output_type": "stream",
     "text": [
      "Number of categorical variables:  24\n",
      "['age', 'body_type', 'scanning', 'before_period', 'irregular_period', 'painful_period', 'bleeding', 'period_cycle', 'period_duration', 'period_pain', 'clots', 'alcohol', 'smoking', 'stress', 'exercise', 'Hereditary', 'diabetes', 'hypothyroidism', 'hair_growth', 'acne', 'marital_status', 'kids', 'work', 'diagnosis']\n"
     ]
    }
   ],
   "source": [
    "#list of categorical variables\n",
    "categorical=[]\n",
    "for col in df.select_dtypes(include='object').columns:\n",
    "    categorical.append(col)\n",
    "print('Number of categorical variables: ', len(categorical))\n",
    "print(categorical)"
   ]
  },
  {
   "cell_type": "markdown",
   "metadata": {},
   "source": [
    ">There are no numerical variable in the dataset. There are 24 categorical variables in the dataset"
   ]
  },
  {
   "cell_type": "markdown",
   "metadata": {},
   "source": [
    ">#### 2.Converting Categorical variables to numerical"
   ]
  },
  {
   "cell_type": "code",
   "execution_count": 24,
   "metadata": {
    "scrolled": false
   },
   "outputs": [],
   "source": [
    "#Label Encoding for categorical variables in df1\n",
    "from sklearn import preprocessing\n",
    "for i in range(0,(len(categorical)-1)):\n",
    "    le=preprocessing.LabelEncoder()\n",
    "    le.fit(df1[categorical[i]])\n",
    "    df1[categorical[i]]=le.transform(df1[categorical[i]])"
   ]
  },
  {
   "cell_type": "code",
   "execution_count": 25,
   "metadata": {},
   "outputs": [],
   "source": [
    "#Label Encoding for categorical variables in df2\n",
    "from sklearn import preprocessing\n",
    "for i in range(0,len(categorical)):\n",
    "    le=preprocessing.LabelEncoder()\n",
    "    le.fit(df2[categorical[i]])\n",
    "    df2[categorical[i]]=le.transform(df2[categorical[i]])"
   ]
  },
  {
   "cell_type": "markdown",
   "metadata": {},
   "source": [
    ">The categorical variables have been converted to numerical by label encoding in both df1 and df2"
   ]
  },
  {
   "cell_type": "markdown",
   "metadata": {},
   "source": [
    ">#### 3.Splitting the modeling dataset (df2) into the dependent and independent variables y and X for modelling"
   ]
  },
  {
   "cell_type": "code",
   "execution_count": 26,
   "metadata": {
    "scrolled": true
   },
   "outputs": [
    {
     "name": "stdout",
     "output_type": "stream",
     "text": [
      "The dependent variable is diagnosis and the independent variables are  ['age', 'body_type', 'scanning', 'before_period', 'irregular_period', 'painful_period', 'bleeding', 'period_cycle', 'period_duration', 'period_pain', 'clots', 'alcohol', 'smoking', 'stress', 'exercise', 'Hereditary', 'diabetes', 'hypothyroidism', 'hair_growth', 'acne', 'marital_status', 'kids', 'work']\n"
     ]
    }
   ],
   "source": [
    "y=df2[\"diagnosis\"]\n",
    "X=df2.drop(['diagnosis'],axis=1)\n",
    "print('The dependent variable is diagnosis and the independent variables are ',list(X.columns))"
   ]
  },
  {
   "cell_type": "markdown",
   "metadata": {},
   "source": [
    "> ### <center>DATA EXPLORATION\n",
    ">1.Displaying first 10 rows of the modelling dataset\n",
    "\n",
    ">2.Finding the shape of the dataframe to be modelled\n",
    "\n",
    ">3.Information of the dataframe to be modelled\n",
    "\n",
    ">4.Plotting each variable with its unique values and frequency in the bar plot\n",
    "\n",
    ">5.Check for correlation\n",
    "\n",
    ">6.Feature Selection"
   ]
  },
  {
   "cell_type": "markdown",
   "metadata": {},
   "source": [
    "> #### 1.Displaying first 10 rows of the modelling dataset"
   ]
  },
  {
   "cell_type": "code",
   "execution_count": 27,
   "metadata": {},
   "outputs": [
    {
     "data": {
      "text/html": [
       "<div>\n",
       "<style scoped>\n",
       "    .dataframe tbody tr th:only-of-type {\n",
       "        vertical-align: middle;\n",
       "    }\n",
       "\n",
       "    .dataframe tbody tr th {\n",
       "        vertical-align: top;\n",
       "    }\n",
       "\n",
       "    .dataframe thead th {\n",
       "        text-align: right;\n",
       "    }\n",
       "</style>\n",
       "<table border=\"1\" class=\"dataframe\">\n",
       "  <thead>\n",
       "    <tr style=\"text-align: right;\">\n",
       "      <th></th>\n",
       "      <th>age</th>\n",
       "      <th>body_type</th>\n",
       "      <th>scanning</th>\n",
       "      <th>before_period</th>\n",
       "      <th>irregular_period</th>\n",
       "      <th>painful_period</th>\n",
       "      <th>bleeding</th>\n",
       "      <th>period_cycle</th>\n",
       "      <th>period_duration</th>\n",
       "      <th>period_pain</th>\n",
       "      <th>...</th>\n",
       "      <th>exercise</th>\n",
       "      <th>Hereditary</th>\n",
       "      <th>diabetes</th>\n",
       "      <th>hypothyroidism</th>\n",
       "      <th>hair_growth</th>\n",
       "      <th>acne</th>\n",
       "      <th>marital_status</th>\n",
       "      <th>kids</th>\n",
       "      <th>work</th>\n",
       "      <th>diagnosis</th>\n",
       "    </tr>\n",
       "  </thead>\n",
       "  <tbody>\n",
       "    <tr>\n",
       "      <th>484</th>\n",
       "      <td>0</td>\n",
       "      <td>0</td>\n",
       "      <td>0</td>\n",
       "      <td>5</td>\n",
       "      <td>1</td>\n",
       "      <td>0</td>\n",
       "      <td>0</td>\n",
       "      <td>2</td>\n",
       "      <td>1</td>\n",
       "      <td>1</td>\n",
       "      <td>...</td>\n",
       "      <td>0</td>\n",
       "      <td>0</td>\n",
       "      <td>0</td>\n",
       "      <td>1</td>\n",
       "      <td>0</td>\n",
       "      <td>1</td>\n",
       "      <td>1</td>\n",
       "      <td>3</td>\n",
       "      <td>0</td>\n",
       "      <td>1</td>\n",
       "    </tr>\n",
       "    <tr>\n",
       "      <th>486</th>\n",
       "      <td>0</td>\n",
       "      <td>1</td>\n",
       "      <td>2</td>\n",
       "      <td>5</td>\n",
       "      <td>1</td>\n",
       "      <td>1</td>\n",
       "      <td>0</td>\n",
       "      <td>1</td>\n",
       "      <td>1</td>\n",
       "      <td>1</td>\n",
       "      <td>...</td>\n",
       "      <td>0</td>\n",
       "      <td>0</td>\n",
       "      <td>0</td>\n",
       "      <td>0</td>\n",
       "      <td>0</td>\n",
       "      <td>0</td>\n",
       "      <td>1</td>\n",
       "      <td>3</td>\n",
       "      <td>0</td>\n",
       "      <td>0</td>\n",
       "    </tr>\n",
       "    <tr>\n",
       "      <th>487</th>\n",
       "      <td>0</td>\n",
       "      <td>0</td>\n",
       "      <td>0</td>\n",
       "      <td>5</td>\n",
       "      <td>1</td>\n",
       "      <td>0</td>\n",
       "      <td>0</td>\n",
       "      <td>2</td>\n",
       "      <td>2</td>\n",
       "      <td>1</td>\n",
       "      <td>...</td>\n",
       "      <td>0</td>\n",
       "      <td>0</td>\n",
       "      <td>0</td>\n",
       "      <td>0</td>\n",
       "      <td>1</td>\n",
       "      <td>0</td>\n",
       "      <td>1</td>\n",
       "      <td>3</td>\n",
       "      <td>1</td>\n",
       "      <td>1</td>\n",
       "    </tr>\n",
       "    <tr>\n",
       "      <th>489</th>\n",
       "      <td>0</td>\n",
       "      <td>1</td>\n",
       "      <td>2</td>\n",
       "      <td>5</td>\n",
       "      <td>0</td>\n",
       "      <td>0</td>\n",
       "      <td>0</td>\n",
       "      <td>0</td>\n",
       "      <td>0</td>\n",
       "      <td>0</td>\n",
       "      <td>...</td>\n",
       "      <td>0</td>\n",
       "      <td>0</td>\n",
       "      <td>0</td>\n",
       "      <td>0</td>\n",
       "      <td>0</td>\n",
       "      <td>0</td>\n",
       "      <td>1</td>\n",
       "      <td>3</td>\n",
       "      <td>1</td>\n",
       "      <td>0</td>\n",
       "    </tr>\n",
       "    <tr>\n",
       "      <th>490</th>\n",
       "      <td>0</td>\n",
       "      <td>1</td>\n",
       "      <td>2</td>\n",
       "      <td>5</td>\n",
       "      <td>1</td>\n",
       "      <td>1</td>\n",
       "      <td>0</td>\n",
       "      <td>0</td>\n",
       "      <td>0</td>\n",
       "      <td>3</td>\n",
       "      <td>...</td>\n",
       "      <td>0</td>\n",
       "      <td>0</td>\n",
       "      <td>0</td>\n",
       "      <td>0</td>\n",
       "      <td>1</td>\n",
       "      <td>1</td>\n",
       "      <td>1</td>\n",
       "      <td>3</td>\n",
       "      <td>1</td>\n",
       "      <td>0</td>\n",
       "    </tr>\n",
       "    <tr>\n",
       "      <th>491</th>\n",
       "      <td>1</td>\n",
       "      <td>3</td>\n",
       "      <td>2</td>\n",
       "      <td>0</td>\n",
       "      <td>1</td>\n",
       "      <td>1</td>\n",
       "      <td>0</td>\n",
       "      <td>0</td>\n",
       "      <td>1</td>\n",
       "      <td>1</td>\n",
       "      <td>...</td>\n",
       "      <td>1</td>\n",
       "      <td>0</td>\n",
       "      <td>0</td>\n",
       "      <td>0</td>\n",
       "      <td>0</td>\n",
       "      <td>0</td>\n",
       "      <td>0</td>\n",
       "      <td>2</td>\n",
       "      <td>0</td>\n",
       "      <td>0</td>\n",
       "    </tr>\n",
       "    <tr>\n",
       "      <th>494</th>\n",
       "      <td>0</td>\n",
       "      <td>1</td>\n",
       "      <td>3</td>\n",
       "      <td>1</td>\n",
       "      <td>0</td>\n",
       "      <td>0</td>\n",
       "      <td>0</td>\n",
       "      <td>0</td>\n",
       "      <td>0</td>\n",
       "      <td>1</td>\n",
       "      <td>...</td>\n",
       "      <td>0</td>\n",
       "      <td>0</td>\n",
       "      <td>0</td>\n",
       "      <td>0</td>\n",
       "      <td>0</td>\n",
       "      <td>0</td>\n",
       "      <td>1</td>\n",
       "      <td>3</td>\n",
       "      <td>1</td>\n",
       "      <td>0</td>\n",
       "    </tr>\n",
       "    <tr>\n",
       "      <th>498</th>\n",
       "      <td>0</td>\n",
       "      <td>0</td>\n",
       "      <td>3</td>\n",
       "      <td>1</td>\n",
       "      <td>0</td>\n",
       "      <td>0</td>\n",
       "      <td>0</td>\n",
       "      <td>0</td>\n",
       "      <td>0</td>\n",
       "      <td>1</td>\n",
       "      <td>...</td>\n",
       "      <td>0</td>\n",
       "      <td>0</td>\n",
       "      <td>0</td>\n",
       "      <td>0</td>\n",
       "      <td>0</td>\n",
       "      <td>0</td>\n",
       "      <td>1</td>\n",
       "      <td>3</td>\n",
       "      <td>1</td>\n",
       "      <td>0</td>\n",
       "    </tr>\n",
       "    <tr>\n",
       "      <th>499</th>\n",
       "      <td>3</td>\n",
       "      <td>1</td>\n",
       "      <td>3</td>\n",
       "      <td>5</td>\n",
       "      <td>1</td>\n",
       "      <td>0</td>\n",
       "      <td>0</td>\n",
       "      <td>0</td>\n",
       "      <td>1</td>\n",
       "      <td>1</td>\n",
       "      <td>...</td>\n",
       "      <td>0</td>\n",
       "      <td>0</td>\n",
       "      <td>0</td>\n",
       "      <td>0</td>\n",
       "      <td>0</td>\n",
       "      <td>0</td>\n",
       "      <td>1</td>\n",
       "      <td>3</td>\n",
       "      <td>1</td>\n",
       "      <td>0</td>\n",
       "    </tr>\n",
       "    <tr>\n",
       "      <th>500</th>\n",
       "      <td>1</td>\n",
       "      <td>1</td>\n",
       "      <td>3</td>\n",
       "      <td>6</td>\n",
       "      <td>0</td>\n",
       "      <td>0</td>\n",
       "      <td>0</td>\n",
       "      <td>0</td>\n",
       "      <td>1</td>\n",
       "      <td>1</td>\n",
       "      <td>...</td>\n",
       "      <td>0</td>\n",
       "      <td>0</td>\n",
       "      <td>0</td>\n",
       "      <td>0</td>\n",
       "      <td>0</td>\n",
       "      <td>0</td>\n",
       "      <td>0</td>\n",
       "      <td>2</td>\n",
       "      <td>0</td>\n",
       "      <td>0</td>\n",
       "    </tr>\n",
       "  </tbody>\n",
       "</table>\n",
       "<p>10 rows × 24 columns</p>\n",
       "</div>"
      ],
      "text/plain": [
       "     age  body_type  scanning  before_period  irregular_period  \\\n",
       "484    0          0         0              5                 1   \n",
       "486    0          1         2              5                 1   \n",
       "487    0          0         0              5                 1   \n",
       "489    0          1         2              5                 0   \n",
       "490    0          1         2              5                 1   \n",
       "491    1          3         2              0                 1   \n",
       "494    0          1         3              1                 0   \n",
       "498    0          0         3              1                 0   \n",
       "499    3          1         3              5                 1   \n",
       "500    1          1         3              6                 0   \n",
       "\n",
       "     painful_period  bleeding  period_cycle  period_duration  period_pain  \\\n",
       "484               0         0             2                1            1   \n",
       "486               1         0             1                1            1   \n",
       "487               0         0             2                2            1   \n",
       "489               0         0             0                0            0   \n",
       "490               1         0             0                0            3   \n",
       "491               1         0             0                1            1   \n",
       "494               0         0             0                0            1   \n",
       "498               0         0             0                0            1   \n",
       "499               0         0             0                1            1   \n",
       "500               0         0             0                1            1   \n",
       "\n",
       "       ...      exercise  Hereditary  diabetes  hypothyroidism  hair_growth  \\\n",
       "484    ...             0           0         0               1            0   \n",
       "486    ...             0           0         0               0            0   \n",
       "487    ...             0           0         0               0            1   \n",
       "489    ...             0           0         0               0            0   \n",
       "490    ...             0           0         0               0            1   \n",
       "491    ...             1           0         0               0            0   \n",
       "494    ...             0           0         0               0            0   \n",
       "498    ...             0           0         0               0            0   \n",
       "499    ...             0           0         0               0            0   \n",
       "500    ...             0           0         0               0            0   \n",
       "\n",
       "     acne  marital_status  kids  work  diagnosis  \n",
       "484     1               1     3     0          1  \n",
       "486     0               1     3     0          0  \n",
       "487     0               1     3     1          1  \n",
       "489     0               1     3     1          0  \n",
       "490     1               1     3     1          0  \n",
       "491     0               0     2     0          0  \n",
       "494     0               1     3     1          0  \n",
       "498     0               1     3     1          0  \n",
       "499     0               1     3     1          0  \n",
       "500     0               0     2     0          0  \n",
       "\n",
       "[10 rows x 24 columns]"
      ]
     },
     "execution_count": 27,
     "metadata": {},
     "output_type": "execute_result"
    }
   ],
   "source": [
    "df2.head(10)"
   ]
  },
  {
   "cell_type": "markdown",
   "metadata": {},
   "source": [
    "> #### 2.Finding the shape of the dataframe to be modelled"
   ]
  },
  {
   "cell_type": "code",
   "execution_count": 28,
   "metadata": {},
   "outputs": [
    {
     "data": {
      "text/plain": [
       "(212, 24)"
      ]
     },
     "execution_count": 28,
     "metadata": {},
     "output_type": "execute_result"
    }
   ],
   "source": [
    "df2.shape"
   ]
  },
  {
   "cell_type": "markdown",
   "metadata": {},
   "source": [
    "> #### 3.Information of the dataframe to be modelled"
   ]
  },
  {
   "cell_type": "code",
   "execution_count": 29,
   "metadata": {},
   "outputs": [
    {
     "name": "stdout",
     "output_type": "stream",
     "text": [
      "<class 'pandas.core.frame.DataFrame'>\n",
      "Int64Index: 212 entries, 484 to 878\n",
      "Data columns (total 24 columns):\n",
      "age                 212 non-null int32\n",
      "body_type           212 non-null int32\n",
      "scanning            212 non-null int32\n",
      "before_period       212 non-null int32\n",
      "irregular_period    212 non-null int32\n",
      "painful_period      212 non-null int32\n",
      "bleeding            212 non-null int32\n",
      "period_cycle        212 non-null int32\n",
      "period_duration     212 non-null int32\n",
      "period_pain         212 non-null int32\n",
      "clots               212 non-null int32\n",
      "alcohol             212 non-null int32\n",
      "smoking             212 non-null int32\n",
      "stress              212 non-null int32\n",
      "exercise            212 non-null int32\n",
      "Hereditary          212 non-null int32\n",
      "diabetes            212 non-null int32\n",
      "hypothyroidism      212 non-null int32\n",
      "hair_growth         212 non-null int32\n",
      "acne                212 non-null int32\n",
      "marital_status      212 non-null int32\n",
      "kids                212 non-null int32\n",
      "work                212 non-null int32\n",
      "diagnosis           212 non-null int32\n",
      "dtypes: int32(24)\n",
      "memory usage: 21.5 KB\n"
     ]
    }
   ],
   "source": [
    "df2.info()"
   ]
  },
  {
   "cell_type": "markdown",
   "metadata": {},
   "source": [
    "> #### 4.Plotting each variable with its unique values and frequency in the bar plot"
   ]
  },
  {
   "cell_type": "code",
   "execution_count": 30,
   "metadata": {},
   "outputs": [
    {
     "data": {
      "image/png": "[encoded data removed]",
      "text/plain": [
       "<matplotlib.figure.Figure at 0x18bec7c8710>"
      ]
     },
     "metadata": {},
     "output_type": "display_data"
    }
   ],
   "source": [
    "import warnings\n",
    "warnings.filterwarnings('ignore')\n",
    "col=list(df2.columns)\n",
    "plt.rcParams['figure.figsize'] = (20, 35)\n",
    "plotnumber =1\n",
    "for i in range (0,len(col)):\n",
    "    plt.subplot(6, 4, plotnumber)\n",
    "    sns.countplot(df2[col[i]])\n",
    "    str='Distribution of '+col[i]\n",
    "    plt.title(str, fontsize = 20)\n",
    "    plt.xlabel(col[i])\n",
    "    plt.ylabel('Count')\n",
    "    plotnumber+=1"
   ]
  },
  {
   "cell_type": "markdown",
   "metadata": {},
   "source": [
    "> #### 5.Check for correlation"
   ]
  },
  {
   "cell_type": "code",
   "execution_count": 31,
   "metadata": {},
   "outputs": [
    {
     "data": {
      "text/plain": [
       "Text(0.5,1,'Heat Map')"
      ]
     },
     "execution_count": 31,
     "metadata": {},
     "output_type": "execute_result"
    },
    {
     "data": {
      "image/png": "[encoded data removed]",
      "text/plain": [
       "<matplotlib.figure.Figure at 0x18bec7ab5c0>"
      ]
     },
     "metadata": {},
     "output_type": "display_data"
    }
   ],
   "source": [
    "## Checking for correlation\n",
    "import matplotlib.pyplot as plt\n",
    "import seaborn as sns\n",
    "cor_mat=df2.corr()\n",
    "fig = plt.figure(figsize=(15,7))\n",
    "sns.heatmap(cor_mat,annot=True)\n",
    "plt.title('Heat Map')"
   ]
  },
  {
   "cell_type": "markdown",
   "metadata": {},
   "source": [
    "> #### 6.Feature Selection"
   ]
  },
  {
   "cell_type": "code",
   "execution_count": 32,
   "metadata": {},
   "outputs": [
    {
     "name": "stdout",
     "output_type": "stream",
     "text": [
      "There are  8 relevant features out of which diagnosis is the target variable\n"
     ]
    },
    {
     "data": {
      "text/plain": [
       "scanning            0.666752\n",
       "irregular_period    0.508112\n",
       "bleeding            0.387688\n",
       "period_cycle        0.417865\n",
       "period_duration     0.314478\n",
       "stress              0.249914\n",
       "hair_growth         0.529517\n",
       "acne                0.282646\n",
       "Name: diagnosis, dtype: float64"
      ]
     },
     "execution_count": 32,
     "metadata": {},
     "output_type": "execute_result"
    }
   ],
   "source": [
    "cor=df2.corr()\n",
    "cor_target = abs(cor['diagnosis'])\n",
    "#Selecting highly correlated features\n",
    "relevant_features = cor_target[cor_target>0.2]\n",
    "print('There are ',(len(relevant_features)-1),'relevant features out of which diagnosis is the target variable')\n",
    "relevant_features[0:(len(relevant_features)-1)]\n"
   ]
  },
  {
   "cell_type": "code",
   "execution_count": 33,
   "metadata": {},
   "outputs": [
    {
     "name": "stdout",
     "output_type": "stream",
     "text": [
      "['scanning', 'irregular_period', 'bleeding', 'period_cycle', 'stress', 'hair_growth', 'acne']\n"
     ]
    }
   ],
   "source": [
    "relevant_features=['scanning','irregular_period','bleeding','period_cycle','stress','hair_growth','acne']\n",
    "print(relevant_features)"
   ]
  },
  {
   "cell_type": "markdown",
   "metadata": {},
   "source": [
    "> ### <center>DATA MODELING\n",
    ">1.Splitting modeling dataset into training and testing data\n",
    "\n",
    ">2.Training and testing the modeling dataset using Naive Bayesian classifier.\n",
    "\n",
    ">3.Model Evaluation of Naive Bayesian Classifier\n",
    "\n",
    ">4.Training and testing the modeling dataset using Logistic regression.\n",
    "\n",
    ">5.Model Evaluation of Logistic Regression\n",
    "\n",
    ">6.Training and testing the modeling dataset using KNN.\n",
    "\n",
    ">7.Model Evaluation of KNN\n",
    "\n",
    ">8.Training and testing the modeling dataset using Random Forest Classifier.\n",
    "\n",
    ">9.Model Evaluation of Random Forest Classifier\n",
    "\n",
    ">10.Training and testing the modeling dataset using Decision Tree.\n",
    "\n",
    ">11.Model Evaluation of Decision Tree\n",
    "\n",
    ">12.Finding the best model"
   ]
  },
  {
   "cell_type": "markdown",
   "metadata": {},
   "source": [
    ">#### 1.Splitting modeling dataset into training and testing"
   ]
  },
  {
   "cell_type": "code",
   "execution_count": 34,
   "metadata": {},
   "outputs": [],
   "source": [
    "X_train,X_test,y_train,y_test=train_test_split(X,y,test_size=0.2,random_state=0)"
   ]
  },
  {
   "cell_type": "code",
   "execution_count": 35,
   "metadata": {},
   "outputs": [
    {
     "data": {
      "text/plain": [
       "(169, 23)"
      ]
     },
     "execution_count": 35,
     "metadata": {},
     "output_type": "execute_result"
    }
   ],
   "source": [
    "X_train.shape"
   ]
  },
  {
   "cell_type": "code",
   "execution_count": 36,
   "metadata": {},
   "outputs": [
    {
     "data": {
      "text/plain": [
       "(43, 23)"
      ]
     },
     "execution_count": 36,
     "metadata": {},
     "output_type": "execute_result"
    }
   ],
   "source": [
    "X_test.shape"
   ]
  },
  {
   "cell_type": "markdown",
   "metadata": {},
   "source": [
    ">#### 2.Training and testing the modeling dataset using Naive Bayes classifier.\n"
   ]
  },
  {
   "cell_type": "code",
   "execution_count": 37,
   "metadata": {
    "scrolled": false
   },
   "outputs": [
    {
     "name": "stdout",
     "output_type": "stream",
     "text": [
      "Accuracy is  88.37 %\n"
     ]
    }
   ],
   "source": [
    "#Naive Bayesian Classifier\n",
    "clf=GaussianNB()\n",
    "model=clf.fit(X_train,y_train)\n",
    "y_pred=model.predict(X_test)\n",
    "ac=accuracy_score(y_test,y_pred,normalize=True)\n",
    "a=np.round(ac*100,2)\n",
    "print('Accuracy is ',a,'%')"
   ]
  },
  {
   "cell_type": "markdown",
   "metadata": {},
   "source": [
    ">#### 3.Model Evaluation of Naive Bayesian Classifier"
   ]
  },
  {
   "cell_type": "code",
   "execution_count": 38,
   "metadata": {},
   "outputs": [
    {
     "name": "stdout",
     "output_type": "stream",
     "text": [
      "Score in Test Data : 0.8837209302325582\n",
      "Right classification : 38\n",
      "Wrong classification : 5\n"
     ]
    },
    {
     "data": {
      "image/png": "[encoded data removed]",
      "text/plain": [
       "<matplotlib.figure.Figure at 0x18beca7cef0>"
      ]
     },
     "metadata": {},
     "output_type": "display_data"
    }
   ],
   "source": [
    "#Model Evaluation of Naive Bayesian Classifier\n",
    "plt.rcParams['figure.figsize'] = (6, 6)\n",
    "print(f\"Score in Test Data : {model.score(X_test,y_test)}\")\n",
    "\n",
    "cm=confusion_matrix(y_test, y_pred)\n",
    "p_right=cm[0][0]+cm[1][1]\n",
    "p_wrong=cm[0][1]+cm[1][0]\n",
    "\n",
    "print(f\"Right classification : {p_right}\")\n",
    "print(f\"Wrong classification : {p_wrong}\")\n",
    "\n",
    "plot_confusion_matrix(clf, X_test, y_test)\n",
    "plt.title('Confusion Matrix')\n",
    "plt.show()"
   ]
  },
  {
   "cell_type": "markdown",
   "metadata": {},
   "source": [
    ">#### 4.Training and testing the modeling dataset using Logistic regression."
   ]
  },
  {
   "cell_type": "code",
   "execution_count": 39,
   "metadata": {},
   "outputs": [
    {
     "name": "stdout",
     "output_type": "stream",
     "text": [
      "Accuracy is  90.7 %\n"
     ]
    }
   ],
   "source": [
    "#Logistic Regression\n",
    "clf=LogisticRegression()\n",
    "model=clf.fit(X_train,y_train)\n",
    "y_pred=model.predict(X_test)\n",
    "ac=accuracy_score(y_test,y_pred,normalize=True)\n",
    "b=np.round(ac*100,2)\n",
    "print('Accuracy is ',b,'%')"
   ]
  },
  {
   "cell_type": "markdown",
   "metadata": {},
   "source": [
    ">#### 5.Model Evaluation of Logistic Regression"
   ]
  },
  {
   "cell_type": "code",
   "execution_count": 40,
   "metadata": {},
   "outputs": [
    {
     "name": "stdout",
     "output_type": "stream",
     "text": [
      "Score in Test Data : 0.9069767441860465\n",
      "Right classification : 39\n",
      "Wrong classification : 4\n"
     ]
    },
    {
     "data": {
      "image/png": "[encoded data removed]",
      "text/plain": [
       "<matplotlib.figure.Figure at 0x18becc2eac8>"
      ]
     },
     "metadata": {},
     "output_type": "display_data"
    }
   ],
   "source": [
    "#Model Evaluation of logistic Regression\n",
    "print(f\"Score in Test Data : {model.score(X_test,y_test)}\")\n",
    "\n",
    "cm=confusion_matrix(y_test, y_pred)\n",
    "p_right=cm[0][0]+cm[1][1]\n",
    "p_wrong=cm[0][1]+cm[1][0]\n",
    "\n",
    "print(f\"Right classification : {p_right}\")\n",
    "print(f\"Wrong classification : {p_wrong}\")\n",
    "\n",
    "plot_confusion_matrix(clf, X_test, y_test)  \n",
    "plt.title('Confusion Matrix')\n",
    "plt.show()"
   ]
  },
  {
   "cell_type": "markdown",
   "metadata": {},
   "source": [
    ">#### 6.Training and testing the modeling dataset using KNN."
   ]
  },
  {
   "cell_type": "code",
   "execution_count": 41,
   "metadata": {
    "scrolled": true
   },
   "outputs": [
    {
     "name": "stdout",
     "output_type": "stream",
     "text": [
      "Accuracy is  90.7 %\n"
     ]
    }
   ],
   "source": [
    "#KNN\n",
    "clf=neighbors.KNeighborsClassifier(n_neighbors=3)\n",
    "model=clf.fit(X_train,y_train)\n",
    "y_pred=model.predict(X_test)\n",
    "ac=accuracy_score(y_test,y_pred,normalize=True)\n",
    "c=np.round(ac*100,2)\n",
    "print('Accuracy is ',c,'%')"
   ]
  },
  {
   "cell_type": "markdown",
   "metadata": {},
   "source": [
    ">#### 7.Model Evaluation of KNN"
   ]
  },
  {
   "cell_type": "code",
   "execution_count": 42,
   "metadata": {},
   "outputs": [
    {
     "name": "stdout",
     "output_type": "stream",
     "text": [
      "Score in Test Data : 0.9069767441860465\n",
      "Right classification : 39\n",
      "Wrong classification : 4\n"
     ]
    },
    {
     "data": {
      "image/png": "[encoded data removed]",
      "text/plain": [
       "<matplotlib.figure.Figure at 0x18becf572b0>"
      ]
     },
     "metadata": {},
     "output_type": "display_data"
    }
   ],
   "source": [
    "#Model Evaluation of KNN\n",
    "print(f\"Score in Test Data : {model.score(X_test,y_test)}\")\n",
    "\n",
    "cm=confusion_matrix(y_test, y_pred)\n",
    "p_right=cm[0][0]+cm[1][1]\n",
    "p_wrong=cm[0][1]+cm[1][0]\n",
    "\n",
    "print(f\"Right classification : {p_right}\")\n",
    "print(f\"Wrong classification : {p_wrong}\")\n",
    "\n",
    "plot_confusion_matrix(clf, X_test, y_test)  \n",
    "plt.title('Confusion Matrix')\n",
    "plt.show()"
   ]
  },
  {
   "cell_type": "markdown",
   "metadata": {},
   "source": [
    ">#### 8.Training and testing the modeling dataset using Random Forest Classifier"
   ]
  },
  {
   "cell_type": "code",
   "execution_count": 43,
   "metadata": {
    "scrolled": true
   },
   "outputs": [
    {
     "name": "stdout",
     "output_type": "stream",
     "text": [
      "Accuracy is  88.37 %\n"
     ]
    }
   ],
   "source": [
    "#Random Forest Classifier\n",
    "clf = RandomForestClassifier(max_depth=2, random_state=0)\n",
    "model=clf.fit(X_train, y_train)\n",
    "y_pred=model.predict(X_test)\n",
    "ac=accuracy_score(y_test,y_pred,normalize=True)\n",
    "d=np.round(ac*100,2)\n",
    "print('Accuracy is ',d,'%')"
   ]
  },
  {
   "cell_type": "markdown",
   "metadata": {},
   "source": [
    ">#### 9.Model Evaluation of Random Forest Classifier"
   ]
  },
  {
   "cell_type": "code",
   "execution_count": 44,
   "metadata": {
    "scrolled": false
   },
   "outputs": [
    {
     "name": "stdout",
     "output_type": "stream",
     "text": [
      "Score in Test Data : 0.8837209302325582\n",
      "Right classification : 38\n",
      "Wrong classification : 5\n"
     ]
    },
    {
     "data": {
      "image/png": "[encoded data removed]",
      "text/plain": [
       "<matplotlib.figure.Figure at 0x18bece0a9b0>"
      ]
     },
     "metadata": {},
     "output_type": "display_data"
    }
   ],
   "source": [
    "#Model Evaluation of Random Forest Classifier\n",
    "print(f\"Score in Test Data : {model.score(X_test,y_test)}\")\n",
    "\n",
    "cm=confusion_matrix(y_test, y_pred)\n",
    "p_right=cm[0][0]+cm[1][1]\n",
    "p_wrong=cm[0][1]+cm[1][0]\n",
    "\n",
    "print(f\"Right classification : {p_right}\")\n",
    "print(f\"Wrong classification : {p_wrong}\")\n",
    "\n",
    "plot_confusion_matrix(clf, X_test, y_test)  \n",
    "plt.title('Confusion Matrix')\n",
    "plt.show()"
   ]
  },
  {
   "cell_type": "markdown",
   "metadata": {},
   "source": [
    ">#### 10.Training and testing the modeling dataset using Decision Tree"
   ]
  },
  {
   "cell_type": "code",
   "execution_count": 45,
   "metadata": {},
   "outputs": [
    {
     "name": "stdout",
     "output_type": "stream",
     "text": [
      "Accuracy is  88.37 %\n"
     ]
    }
   ],
   "source": [
    "#Decision Tree\n",
    "clf = tree.DecisionTreeClassifier(max_depth=4)\n",
    "model = clf.fit(X_train, y_train)\n",
    "y_pred=model.predict(X_test)\n",
    "ac=accuracy_score(y_test,y_pred,normalize=True)\n",
    "e=np.round(ac*100,2)\n",
    "print('Accuracy is ',e,'%')"
   ]
  },
  {
   "cell_type": "code",
   "execution_count": 46,
   "metadata": {},
   "outputs": [],
   "source": [
    "import graphviz\n",
    "with open(\"DecisionTree.dot\",'w') as f:\n",
    "    f=tree.export_graphviz(model,feature_names=X.columns,out_file=f);"
   ]
  },
  {
   "attachments": {
    "image.png": {
     "image/png": "[encoded data removed]"
    }
   },
   "cell_type": "markdown",
   "metadata": {},
   "source": [
    "![image.png](attachment:image.png)"
   ]
  },
  {
   "cell_type": "markdown",
   "metadata": {},
   "source": [
    ">#### 11.Model Evaluation of Decision Tree"
   ]
  },
  {
   "cell_type": "code",
   "execution_count": 47,
   "metadata": {},
   "outputs": [
    {
     "name": "stdout",
     "output_type": "stream",
     "text": [
      "Score in Test Data : 0.8837209302325582\n",
      "Right classification : 38\n",
      "Wrong classification : 5\n"
     ]
    },
    {
     "data": {
      "image/png": "[encoded data removed]",
      "text/plain": [
       "<matplotlib.figure.Figure at 0x18beced52b0>"
      ]
     },
     "metadata": {},
     "output_type": "display_data"
    }
   ],
   "source": [
    "#Model Evaluation of Decision Tree\n",
    "print(f\"Score in Test Data : {model.score(X_test,y_test)}\")\n",
    "\n",
    "cm=confusion_matrix(y_test, y_pred)\n",
    "p_right=cm[0][0]+cm[1][1]\n",
    "p_wrong=cm[0][1]+cm[1][0]\n",
    "\n",
    "print(f\"Right classification : {p_right}\")\n",
    "print(f\"Wrong classification : {p_wrong}\")\n",
    "\n",
    "plot_confusion_matrix(clf, X_test, y_test)\n",
    "plt.title('Confusion Matrix')\n",
    "plt.show()"
   ]
  },
  {
   "cell_type": "markdown",
   "metadata": {},
   "source": [
    "> #### 12. FInding the best model"
   ]
  },
  {
   "cell_type": "code",
   "execution_count": 48,
   "metadata": {},
   "outputs": [
    {
     "data": {
      "text/html": [
       "<div>\n",
       "<style scoped>\n",
       "    .dataframe tbody tr th:only-of-type {\n",
       "        vertical-align: middle;\n",
       "    }\n",
       "\n",
       "    .dataframe tbody tr th {\n",
       "        vertical-align: top;\n",
       "    }\n",
       "\n",
       "    .dataframe thead th {\n",
       "        text-align: right;\n",
       "    }\n",
       "</style>\n",
       "<table border=\"1\" class=\"dataframe\">\n",
       "  <thead>\n",
       "    <tr style=\"text-align: right;\">\n",
       "      <th></th>\n",
       "      <th>Accuracy</th>\n",
       "      <th>Algorithm</th>\n",
       "    </tr>\n",
       "  </thead>\n",
       "  <tbody>\n",
       "    <tr>\n",
       "      <th>1</th>\n",
       "      <td>90.70</td>\n",
       "      <td>Logistic regression</td>\n",
       "    </tr>\n",
       "    <tr>\n",
       "      <th>2</th>\n",
       "      <td>90.70</td>\n",
       "      <td>KNN</td>\n",
       "    </tr>\n",
       "    <tr>\n",
       "      <th>0</th>\n",
       "      <td>88.37</td>\n",
       "      <td>Naive Bayesian Classifier</td>\n",
       "    </tr>\n",
       "    <tr>\n",
       "      <th>3</th>\n",
       "      <td>88.37</td>\n",
       "      <td>Random Forest Classifier</td>\n",
       "    </tr>\n",
       "    <tr>\n",
       "      <th>4</th>\n",
       "      <td>88.37</td>\n",
       "      <td>Decision Tree Classifier</td>\n",
       "    </tr>\n",
       "  </tbody>\n",
       "</table>\n",
       "</div>"
      ],
      "text/plain": [
       "   Accuracy                  Algorithm\n",
       "1     90.70        Logistic regression\n",
       "2     90.70                        KNN\n",
       "0     88.37  Naive Bayesian Classifier\n",
       "3     88.37   Random Forest Classifier\n",
       "4     88.37   Decision Tree Classifier"
      ]
     },
     "execution_count": 48,
     "metadata": {},
     "output_type": "execute_result"
    }
   ],
   "source": [
    "dictionary={'Algorithm':['Naive Bayesian Classifier','Logistic regression','KNN','Random Forest Classifier','Decision Tree Classifier'],\n",
    "          'Accuracy':[a,b,c,d,e]}\n",
    "n=pd.DataFrame(dictionary)\n",
    "n.sort_values(by=['Accuracy'],ascending=False)"
   ]
  },
  {
   "cell_type": "markdown",
   "metadata": {},
   "source": [
    ">The best models are Logistic Regression and KNN with accuracy of 90.70%."
   ]
  },
  {
   "cell_type": "markdown",
   "metadata": {},
   "source": [
    "> ### <center>MODEL PREDICTION\n",
    "    \n",
    "> 1.Assigning the variables (indepedent) of predicting dataset (df1) to the variable X2\n",
    "\n",
    "> 2.Predicting diagnosis variable of predicting dataset using logistic regression\n",
    "\n",
    "> 3.Predicting diagnosis variable of predicting dataset using KNN\n",
    "\n",
    "> 4.Comparing both predictions of diagnosis"
   ]
  },
  {
   "cell_type": "markdown",
   "metadata": {},
   "source": [
    ">#### 1.Assigning the variables (indepedent) of predicting dataset (df1) to the variable X2"
   ]
  },
  {
   "cell_type": "code",
   "execution_count": 49,
   "metadata": {
    "scrolled": true
   },
   "outputs": [
    {
     "name": "stdout",
     "output_type": "stream",
     "text": [
      "The independent variables are  ['age', 'body_type', 'scanning', 'before_period', 'irregular_period', 'painful_period', 'bleeding', 'period_cycle', 'period_duration', 'period_pain', 'clots', 'alcohol', 'smoking', 'stress', 'exercise', 'Hereditary', 'diabetes', 'hypothyroidism', 'hair_growth', 'acne', 'marital_status', 'kids', 'work']\n"
     ]
    }
   ],
   "source": [
    "X2=df1\n",
    "print('The independent variables are ',list(X.columns))"
   ]
  },
  {
   "cell_type": "markdown",
   "metadata": {},
   "source": [
    ">#### 2.Predicting diagnosis variable of predicting dataset using logistic regression"
   ]
  },
  {
   "cell_type": "code",
   "execution_count": 50,
   "metadata": {
    "scrolled": false
   },
   "outputs": [
    {
     "data": {
      "text/html": [
       "<div>\n",
       "<style scoped>\n",
       "    .dataframe tbody tr th:only-of-type {\n",
       "        vertical-align: middle;\n",
       "    }\n",
       "\n",
       "    .dataframe tbody tr th {\n",
       "        vertical-align: top;\n",
       "    }\n",
       "\n",
       "    .dataframe thead th {\n",
       "        text-align: right;\n",
       "    }\n",
       "</style>\n",
       "<table border=\"1\" class=\"dataframe\">\n",
       "  <thead>\n",
       "    <tr style=\"text-align: right;\">\n",
       "      <th></th>\n",
       "      <th>Predicted Diagnosis</th>\n",
       "    </tr>\n",
       "  </thead>\n",
       "  <tbody>\n",
       "    <tr>\n",
       "      <th>0</th>\n",
       "      <td>0</td>\n",
       "    </tr>\n",
       "    <tr>\n",
       "      <th>1</th>\n",
       "      <td>0</td>\n",
       "    </tr>\n",
       "    <tr>\n",
       "      <th>2</th>\n",
       "      <td>0</td>\n",
       "    </tr>\n",
       "    <tr>\n",
       "      <th>3</th>\n",
       "      <td>0</td>\n",
       "    </tr>\n",
       "    <tr>\n",
       "      <th>4</th>\n",
       "      <td>0</td>\n",
       "    </tr>\n",
       "    <tr>\n",
       "      <th>5</th>\n",
       "      <td>0</td>\n",
       "    </tr>\n",
       "    <tr>\n",
       "      <th>6</th>\n",
       "      <td>0</td>\n",
       "    </tr>\n",
       "    <tr>\n",
       "      <th>7</th>\n",
       "      <td>0</td>\n",
       "    </tr>\n",
       "    <tr>\n",
       "      <th>8</th>\n",
       "      <td>1</td>\n",
       "    </tr>\n",
       "    <tr>\n",
       "      <th>9</th>\n",
       "      <td>1</td>\n",
       "    </tr>\n",
       "  </tbody>\n",
       "</table>\n",
       "</div>"
      ],
      "text/plain": [
       "   Predicted Diagnosis\n",
       "0                    0\n",
       "1                    0\n",
       "2                    0\n",
       "3                    0\n",
       "4                    0\n",
       "5                    0\n",
       "6                    0\n",
       "7                    0\n",
       "8                    1\n",
       "9                    1"
      ]
     },
     "execution_count": 50,
     "metadata": {},
     "output_type": "execute_result"
    }
   ],
   "source": [
    "#Prediction using Logistic Regression\n",
    "clf=LogisticRegression()\n",
    "model=clf.fit(X,y)\n",
    "y_pred=model.predict(X2)\n",
    "df3=df1\n",
    "df4=pd.DataFrame(y_pred)\n",
    "pred_diag={0:'Predicted Diagnosis'}\n",
    "df4.rename(pred_diag, axis=1, inplace=True)\n",
    "df4.head(10)"
   ]
  },
  {
   "cell_type": "markdown",
   "metadata": {},
   "source": [
    ">In the prediction of diagnosis, 1 denotes a female with PCOS/PCOD and 0 denotes a female with no PCOD/PCOS"
   ]
  },
  {
   "cell_type": "code",
   "execution_count": 51,
   "metadata": {},
   "outputs": [
    {
     "data": {
      "text/plain": [
       "0    436\n",
       "1     75\n",
       "Name: Predicted Diagnosis, dtype: int64"
      ]
     },
     "execution_count": 51,
     "metadata": {},
     "output_type": "execute_result"
    }
   ],
   "source": [
    "df4['Predicted Diagnosis'].value_counts()"
   ]
  },
  {
   "cell_type": "markdown",
   "metadata": {},
   "source": [
    "Prediction of diagnosis using Logistic Regression 75 have PCOS/PCOD where as 436 have no PCOD/PCOS."
   ]
  },
  {
   "cell_type": "code",
   "execution_count": 60,
   "metadata": {},
   "outputs": [
    {
     "data": {
      "text/plain": [
       "Text(0.5,1,'Barplot for predicted diagnosis using Logistic Regression')"
      ]
     },
     "execution_count": 60,
     "metadata": {},
     "output_type": "execute_result"
    },
    {
     "data": {
      "image/png": "[encoded data removed]",
      "text/plain": [
       "<matplotlib.figure.Figure at 0x18bece85f60>"
      ]
     },
     "metadata": {},
     "output_type": "display_data"
    }
   ],
   "source": [
    "sns.countplot(df4['Predicted Diagnosis'])\n",
    "plt.title('Barplot for predicted diagnosis using Logistic Regression', fontsize = 15)"
   ]
  },
  {
   "cell_type": "code",
   "execution_count": 53,
   "metadata": {},
   "outputs": [
    {
     "data": {
      "text/html": [
       "<div>\n",
       "<style scoped>\n",
       "    .dataframe tbody tr th:only-of-type {\n",
       "        vertical-align: middle;\n",
       "    }\n",
       "\n",
       "    .dataframe tbody tr th {\n",
       "        vertical-align: top;\n",
       "    }\n",
       "\n",
       "    .dataframe thead th {\n",
       "        text-align: right;\n",
       "    }\n",
       "</style>\n",
       "<table border=\"1\" class=\"dataframe\">\n",
       "  <thead>\n",
       "    <tr style=\"text-align: right;\">\n",
       "      <th></th>\n",
       "      <th>age</th>\n",
       "      <th>body_type</th>\n",
       "      <th>scanning</th>\n",
       "      <th>before_period</th>\n",
       "      <th>irregular_period</th>\n",
       "      <th>painful_period</th>\n",
       "      <th>bleeding</th>\n",
       "      <th>period_cycle</th>\n",
       "      <th>period_duration</th>\n",
       "      <th>period_pain</th>\n",
       "      <th>...</th>\n",
       "      <th>exercise</th>\n",
       "      <th>Hereditary</th>\n",
       "      <th>diabetes</th>\n",
       "      <th>hypothyroidism</th>\n",
       "      <th>hair_growth</th>\n",
       "      <th>acne</th>\n",
       "      <th>marital_status</th>\n",
       "      <th>kids</th>\n",
       "      <th>work</th>\n",
       "      <th>Predicted Diagnosis</th>\n",
       "    </tr>\n",
       "  </thead>\n",
       "  <tbody>\n",
       "    <tr>\n",
       "      <th>0</th>\n",
       "      <td>0.0</td>\n",
       "      <td>1.0</td>\n",
       "      <td>2.0</td>\n",
       "      <td>5.0</td>\n",
       "      <td>1.0</td>\n",
       "      <td>1.0</td>\n",
       "      <td>1.0</td>\n",
       "      <td>0.0</td>\n",
       "      <td>1.0</td>\n",
       "      <td>3.0</td>\n",
       "      <td>...</td>\n",
       "      <td>0.0</td>\n",
       "      <td>0.0</td>\n",
       "      <td>0.0</td>\n",
       "      <td>0.0</td>\n",
       "      <td>0.0</td>\n",
       "      <td>0.0</td>\n",
       "      <td>2.0</td>\n",
       "      <td>3.0</td>\n",
       "      <td>3.0</td>\n",
       "      <td>0.0</td>\n",
       "    </tr>\n",
       "    <tr>\n",
       "      <th>1</th>\n",
       "      <td>0.0</td>\n",
       "      <td>1.0</td>\n",
       "      <td>2.0</td>\n",
       "      <td>0.0</td>\n",
       "      <td>0.0</td>\n",
       "      <td>1.0</td>\n",
       "      <td>0.0</td>\n",
       "      <td>0.0</td>\n",
       "      <td>2.0</td>\n",
       "      <td>1.0</td>\n",
       "      <td>...</td>\n",
       "      <td>1.0</td>\n",
       "      <td>0.0</td>\n",
       "      <td>0.0</td>\n",
       "      <td>0.0</td>\n",
       "      <td>0.0</td>\n",
       "      <td>0.0</td>\n",
       "      <td>2.0</td>\n",
       "      <td>3.0</td>\n",
       "      <td>3.0</td>\n",
       "      <td>0.0</td>\n",
       "    </tr>\n",
       "    <tr>\n",
       "      <th>2</th>\n",
       "      <td>0.0</td>\n",
       "      <td>1.0</td>\n",
       "      <td>2.0</td>\n",
       "      <td>6.0</td>\n",
       "      <td>0.0</td>\n",
       "      <td>0.0</td>\n",
       "      <td>0.0</td>\n",
       "      <td>0.0</td>\n",
       "      <td>1.0</td>\n",
       "      <td>1.0</td>\n",
       "      <td>...</td>\n",
       "      <td>0.0</td>\n",
       "      <td>0.0</td>\n",
       "      <td>0.0</td>\n",
       "      <td>0.0</td>\n",
       "      <td>0.0</td>\n",
       "      <td>0.0</td>\n",
       "      <td>2.0</td>\n",
       "      <td>3.0</td>\n",
       "      <td>3.0</td>\n",
       "      <td>0.0</td>\n",
       "    </tr>\n",
       "    <tr>\n",
       "      <th>3</th>\n",
       "      <td>0.0</td>\n",
       "      <td>0.0</td>\n",
       "      <td>2.0</td>\n",
       "      <td>5.0</td>\n",
       "      <td>1.0</td>\n",
       "      <td>1.0</td>\n",
       "      <td>1.0</td>\n",
       "      <td>0.0</td>\n",
       "      <td>0.0</td>\n",
       "      <td>3.0</td>\n",
       "      <td>...</td>\n",
       "      <td>0.0</td>\n",
       "      <td>0.0</td>\n",
       "      <td>0.0</td>\n",
       "      <td>0.0</td>\n",
       "      <td>0.0</td>\n",
       "      <td>0.0</td>\n",
       "      <td>2.0</td>\n",
       "      <td>3.0</td>\n",
       "      <td>3.0</td>\n",
       "      <td>0.0</td>\n",
       "    </tr>\n",
       "    <tr>\n",
       "      <th>4</th>\n",
       "      <td>0.0</td>\n",
       "      <td>2.0</td>\n",
       "      <td>3.0</td>\n",
       "      <td>2.0</td>\n",
       "      <td>0.0</td>\n",
       "      <td>0.0</td>\n",
       "      <td>1.0</td>\n",
       "      <td>0.0</td>\n",
       "      <td>0.0</td>\n",
       "      <td>1.0</td>\n",
       "      <td>...</td>\n",
       "      <td>1.0</td>\n",
       "      <td>0.0</td>\n",
       "      <td>0.0</td>\n",
       "      <td>0.0</td>\n",
       "      <td>0.0</td>\n",
       "      <td>0.0</td>\n",
       "      <td>2.0</td>\n",
       "      <td>3.0</td>\n",
       "      <td>3.0</td>\n",
       "      <td>0.0</td>\n",
       "    </tr>\n",
       "    <tr>\n",
       "      <th>5</th>\n",
       "      <td>0.0</td>\n",
       "      <td>2.0</td>\n",
       "      <td>2.0</td>\n",
       "      <td>1.0</td>\n",
       "      <td>0.0</td>\n",
       "      <td>1.0</td>\n",
       "      <td>0.0</td>\n",
       "      <td>0.0</td>\n",
       "      <td>1.0</td>\n",
       "      <td>3.0</td>\n",
       "      <td>...</td>\n",
       "      <td>0.0</td>\n",
       "      <td>0.0</td>\n",
       "      <td>0.0</td>\n",
       "      <td>0.0</td>\n",
       "      <td>0.0</td>\n",
       "      <td>0.0</td>\n",
       "      <td>2.0</td>\n",
       "      <td>3.0</td>\n",
       "      <td>3.0</td>\n",
       "      <td>0.0</td>\n",
       "    </tr>\n",
       "    <tr>\n",
       "      <th>6</th>\n",
       "      <td>0.0</td>\n",
       "      <td>1.0</td>\n",
       "      <td>2.0</td>\n",
       "      <td>3.0</td>\n",
       "      <td>0.0</td>\n",
       "      <td>1.0</td>\n",
       "      <td>0.0</td>\n",
       "      <td>0.0</td>\n",
       "      <td>0.0</td>\n",
       "      <td>1.0</td>\n",
       "      <td>...</td>\n",
       "      <td>0.0</td>\n",
       "      <td>0.0</td>\n",
       "      <td>0.0</td>\n",
       "      <td>0.0</td>\n",
       "      <td>0.0</td>\n",
       "      <td>0.0</td>\n",
       "      <td>2.0</td>\n",
       "      <td>3.0</td>\n",
       "      <td>3.0</td>\n",
       "      <td>0.0</td>\n",
       "    </tr>\n",
       "    <tr>\n",
       "      <th>8</th>\n",
       "      <td>0.0</td>\n",
       "      <td>1.0</td>\n",
       "      <td>3.0</td>\n",
       "      <td>6.0</td>\n",
       "      <td>0.0</td>\n",
       "      <td>0.0</td>\n",
       "      <td>0.0</td>\n",
       "      <td>0.0</td>\n",
       "      <td>1.0</td>\n",
       "      <td>0.0</td>\n",
       "      <td>...</td>\n",
       "      <td>0.0</td>\n",
       "      <td>0.0</td>\n",
       "      <td>0.0</td>\n",
       "      <td>0.0</td>\n",
       "      <td>0.0</td>\n",
       "      <td>0.0</td>\n",
       "      <td>2.0</td>\n",
       "      <td>3.0</td>\n",
       "      <td>3.0</td>\n",
       "      <td>1.0</td>\n",
       "    </tr>\n",
       "    <tr>\n",
       "      <th>9</th>\n",
       "      <td>0.0</td>\n",
       "      <td>1.0</td>\n",
       "      <td>0.0</td>\n",
       "      <td>5.0</td>\n",
       "      <td>1.0</td>\n",
       "      <td>1.0</td>\n",
       "      <td>1.0</td>\n",
       "      <td>2.0</td>\n",
       "      <td>1.0</td>\n",
       "      <td>1.0</td>\n",
       "      <td>...</td>\n",
       "      <td>0.0</td>\n",
       "      <td>0.0</td>\n",
       "      <td>0.0</td>\n",
       "      <td>0.0</td>\n",
       "      <td>0.0</td>\n",
       "      <td>1.0</td>\n",
       "      <td>2.0</td>\n",
       "      <td>3.0</td>\n",
       "      <td>3.0</td>\n",
       "      <td>1.0</td>\n",
       "    </tr>\n",
       "    <tr>\n",
       "      <th>10</th>\n",
       "      <td>0.0</td>\n",
       "      <td>1.0</td>\n",
       "      <td>1.0</td>\n",
       "      <td>4.0</td>\n",
       "      <td>1.0</td>\n",
       "      <td>1.0</td>\n",
       "      <td>1.0</td>\n",
       "      <td>0.0</td>\n",
       "      <td>1.0</td>\n",
       "      <td>3.0</td>\n",
       "      <td>...</td>\n",
       "      <td>0.0</td>\n",
       "      <td>0.0</td>\n",
       "      <td>0.0</td>\n",
       "      <td>0.0</td>\n",
       "      <td>1.0</td>\n",
       "      <td>0.0</td>\n",
       "      <td>2.0</td>\n",
       "      <td>3.0</td>\n",
       "      <td>3.0</td>\n",
       "      <td>0.0</td>\n",
       "    </tr>\n",
       "    <tr>\n",
       "      <th>11</th>\n",
       "      <td>0.0</td>\n",
       "      <td>1.0</td>\n",
       "      <td>2.0</td>\n",
       "      <td>6.0</td>\n",
       "      <td>0.0</td>\n",
       "      <td>1.0</td>\n",
       "      <td>0.0</td>\n",
       "      <td>0.0</td>\n",
       "      <td>0.0</td>\n",
       "      <td>1.0</td>\n",
       "      <td>...</td>\n",
       "      <td>1.0</td>\n",
       "      <td>0.0</td>\n",
       "      <td>0.0</td>\n",
       "      <td>0.0</td>\n",
       "      <td>0.0</td>\n",
       "      <td>0.0</td>\n",
       "      <td>2.0</td>\n",
       "      <td>3.0</td>\n",
       "      <td>3.0</td>\n",
       "      <td>0.0</td>\n",
       "    </tr>\n",
       "    <tr>\n",
       "      <th>12</th>\n",
       "      <td>0.0</td>\n",
       "      <td>3.0</td>\n",
       "      <td>3.0</td>\n",
       "      <td>5.0</td>\n",
       "      <td>1.0</td>\n",
       "      <td>1.0</td>\n",
       "      <td>1.0</td>\n",
       "      <td>1.0</td>\n",
       "      <td>0.0</td>\n",
       "      <td>3.0</td>\n",
       "      <td>...</td>\n",
       "      <td>0.0</td>\n",
       "      <td>0.0</td>\n",
       "      <td>0.0</td>\n",
       "      <td>0.0</td>\n",
       "      <td>0.0</td>\n",
       "      <td>0.0</td>\n",
       "      <td>2.0</td>\n",
       "      <td>3.0</td>\n",
       "      <td>3.0</td>\n",
       "      <td>0.0</td>\n",
       "    </tr>\n",
       "    <tr>\n",
       "      <th>13</th>\n",
       "      <td>0.0</td>\n",
       "      <td>3.0</td>\n",
       "      <td>3.0</td>\n",
       "      <td>5.0</td>\n",
       "      <td>0.0</td>\n",
       "      <td>1.0</td>\n",
       "      <td>0.0</td>\n",
       "      <td>1.0</td>\n",
       "      <td>1.0</td>\n",
       "      <td>1.0</td>\n",
       "      <td>...</td>\n",
       "      <td>0.0</td>\n",
       "      <td>0.0</td>\n",
       "      <td>0.0</td>\n",
       "      <td>1.0</td>\n",
       "      <td>0.0</td>\n",
       "      <td>0.0</td>\n",
       "      <td>2.0</td>\n",
       "      <td>3.0</td>\n",
       "      <td>3.0</td>\n",
       "      <td>0.0</td>\n",
       "    </tr>\n",
       "    <tr>\n",
       "      <th>14</th>\n",
       "      <td>0.0</td>\n",
       "      <td>1.0</td>\n",
       "      <td>2.0</td>\n",
       "      <td>6.0</td>\n",
       "      <td>0.0</td>\n",
       "      <td>1.0</td>\n",
       "      <td>0.0</td>\n",
       "      <td>0.0</td>\n",
       "      <td>1.0</td>\n",
       "      <td>1.0</td>\n",
       "      <td>...</td>\n",
       "      <td>0.0</td>\n",
       "      <td>0.0</td>\n",
       "      <td>0.0</td>\n",
       "      <td>0.0</td>\n",
       "      <td>1.0</td>\n",
       "      <td>0.0</td>\n",
       "      <td>2.0</td>\n",
       "      <td>3.0</td>\n",
       "      <td>3.0</td>\n",
       "      <td>1.0</td>\n",
       "    </tr>\n",
       "    <tr>\n",
       "      <th>15</th>\n",
       "      <td>1.0</td>\n",
       "      <td>1.0</td>\n",
       "      <td>0.0</td>\n",
       "      <td>1.0</td>\n",
       "      <td>1.0</td>\n",
       "      <td>1.0</td>\n",
       "      <td>1.0</td>\n",
       "      <td>0.0</td>\n",
       "      <td>0.0</td>\n",
       "      <td>3.0</td>\n",
       "      <td>...</td>\n",
       "      <td>0.0</td>\n",
       "      <td>1.0</td>\n",
       "      <td>0.0</td>\n",
       "      <td>0.0</td>\n",
       "      <td>1.0</td>\n",
       "      <td>1.0</td>\n",
       "      <td>2.0</td>\n",
       "      <td>3.0</td>\n",
       "      <td>3.0</td>\n",
       "      <td>0.0</td>\n",
       "    </tr>\n",
       "  </tbody>\n",
       "</table>\n",
       "<p>15 rows × 24 columns</p>\n",
       "</div>"
      ],
      "text/plain": [
       "    age  body_type  scanning  before_period  irregular_period  painful_period  \\\n",
       "0   0.0        1.0       2.0            5.0               1.0             1.0   \n",
       "1   0.0        1.0       2.0            0.0               0.0             1.0   \n",
       "2   0.0        1.0       2.0            6.0               0.0             0.0   \n",
       "3   0.0        0.0       2.0            5.0               1.0             1.0   \n",
       "4   0.0        2.0       3.0            2.0               0.0             0.0   \n",
       "5   0.0        2.0       2.0            1.0               0.0             1.0   \n",
       "6   0.0        1.0       2.0            3.0               0.0             1.0   \n",
       "8   0.0        1.0       3.0            6.0               0.0             0.0   \n",
       "9   0.0        1.0       0.0            5.0               1.0             1.0   \n",
       "10  0.0        1.0       1.0            4.0               1.0             1.0   \n",
       "11  0.0        1.0       2.0            6.0               0.0             1.0   \n",
       "12  0.0        3.0       3.0            5.0               1.0             1.0   \n",
       "13  0.0        3.0       3.0            5.0               0.0             1.0   \n",
       "14  0.0        1.0       2.0            6.0               0.0             1.0   \n",
       "15  1.0        1.0       0.0            1.0               1.0             1.0   \n",
       "\n",
       "    bleeding  period_cycle  period_duration  period_pain         ...           \\\n",
       "0        1.0           0.0              1.0          3.0         ...            \n",
       "1        0.0           0.0              2.0          1.0         ...            \n",
       "2        0.0           0.0              1.0          1.0         ...            \n",
       "3        1.0           0.0              0.0          3.0         ...            \n",
       "4        1.0           0.0              0.0          1.0         ...            \n",
       "5        0.0           0.0              1.0          3.0         ...            \n",
       "6        0.0           0.0              0.0          1.0         ...            \n",
       "8        0.0           0.0              1.0          0.0         ...            \n",
       "9        1.0           2.0              1.0          1.0         ...            \n",
       "10       1.0           0.0              1.0          3.0         ...            \n",
       "11       0.0           0.0              0.0          1.0         ...            \n",
       "12       1.0           1.0              0.0          3.0         ...            \n",
       "13       0.0           1.0              1.0          1.0         ...            \n",
       "14       0.0           0.0              1.0          1.0         ...            \n",
       "15       1.0           0.0              0.0          3.0         ...            \n",
       "\n",
       "    exercise  Hereditary  diabetes  hypothyroidism  hair_growth  acne  \\\n",
       "0        0.0         0.0       0.0             0.0          0.0   0.0   \n",
       "1        1.0         0.0       0.0             0.0          0.0   0.0   \n",
       "2        0.0         0.0       0.0             0.0          0.0   0.0   \n",
       "3        0.0         0.0       0.0             0.0          0.0   0.0   \n",
       "4        1.0         0.0       0.0             0.0          0.0   0.0   \n",
       "5        0.0         0.0       0.0             0.0          0.0   0.0   \n",
       "6        0.0         0.0       0.0             0.0          0.0   0.0   \n",
       "8        0.0         0.0       0.0             0.0          0.0   0.0   \n",
       "9        0.0         0.0       0.0             0.0          0.0   1.0   \n",
       "10       0.0         0.0       0.0             0.0          1.0   0.0   \n",
       "11       1.0         0.0       0.0             0.0          0.0   0.0   \n",
       "12       0.0         0.0       0.0             0.0          0.0   0.0   \n",
       "13       0.0         0.0       0.0             1.0          0.0   0.0   \n",
       "14       0.0         0.0       0.0             0.0          1.0   0.0   \n",
       "15       0.0         1.0       0.0             0.0          1.0   1.0   \n",
       "\n",
       "    marital_status  kids  work  Predicted Diagnosis  \n",
       "0              2.0   3.0   3.0                  0.0  \n",
       "1              2.0   3.0   3.0                  0.0  \n",
       "2              2.0   3.0   3.0                  0.0  \n",
       "3              2.0   3.0   3.0                  0.0  \n",
       "4              2.0   3.0   3.0                  0.0  \n",
       "5              2.0   3.0   3.0                  0.0  \n",
       "6              2.0   3.0   3.0                  0.0  \n",
       "8              2.0   3.0   3.0                  1.0  \n",
       "9              2.0   3.0   3.0                  1.0  \n",
       "10             2.0   3.0   3.0                  0.0  \n",
       "11             2.0   3.0   3.0                  0.0  \n",
       "12             2.0   3.0   3.0                  0.0  \n",
       "13             2.0   3.0   3.0                  0.0  \n",
       "14             2.0   3.0   3.0                  1.0  \n",
       "15             2.0   3.0   3.0                  0.0  \n",
       "\n",
       "[15 rows x 24 columns]"
      ]
     },
     "execution_count": 53,
     "metadata": {},
     "output_type": "execute_result"
    }
   ],
   "source": [
    "df5=pd.concat([df3,df4],axis=1)\n",
    "df5=df5.dropna()\n",
    "df5.head(15)"
   ]
  },
  {
   "cell_type": "markdown",
   "metadata": {},
   "source": [
    ">#### 3.Predicting diagnosis variable of predicting dataset using KNN"
   ]
  },
  {
   "cell_type": "code",
   "execution_count": 54,
   "metadata": {
    "scrolled": true
   },
   "outputs": [
    {
     "data": {
      "text/html": [
       "<div>\n",
       "<style scoped>\n",
       "    .dataframe tbody tr th:only-of-type {\n",
       "        vertical-align: middle;\n",
       "    }\n",
       "\n",
       "    .dataframe tbody tr th {\n",
       "        vertical-align: top;\n",
       "    }\n",
       "\n",
       "    .dataframe thead th {\n",
       "        text-align: right;\n",
       "    }\n",
       "</style>\n",
       "<table border=\"1\" class=\"dataframe\">\n",
       "  <thead>\n",
       "    <tr style=\"text-align: right;\">\n",
       "      <th></th>\n",
       "      <th>Predicted Diagnosis</th>\n",
       "    </tr>\n",
       "  </thead>\n",
       "  <tbody>\n",
       "    <tr>\n",
       "      <th>0</th>\n",
       "      <td>0</td>\n",
       "    </tr>\n",
       "    <tr>\n",
       "      <th>1</th>\n",
       "      <td>0</td>\n",
       "    </tr>\n",
       "    <tr>\n",
       "      <th>2</th>\n",
       "      <td>0</td>\n",
       "    </tr>\n",
       "    <tr>\n",
       "      <th>3</th>\n",
       "      <td>0</td>\n",
       "    </tr>\n",
       "    <tr>\n",
       "      <th>4</th>\n",
       "      <td>0</td>\n",
       "    </tr>\n",
       "    <tr>\n",
       "      <th>5</th>\n",
       "      <td>0</td>\n",
       "    </tr>\n",
       "    <tr>\n",
       "      <th>6</th>\n",
       "      <td>0</td>\n",
       "    </tr>\n",
       "    <tr>\n",
       "      <th>7</th>\n",
       "      <td>0</td>\n",
       "    </tr>\n",
       "    <tr>\n",
       "      <th>8</th>\n",
       "      <td>1</td>\n",
       "    </tr>\n",
       "    <tr>\n",
       "      <th>9</th>\n",
       "      <td>0</td>\n",
       "    </tr>\n",
       "  </tbody>\n",
       "</table>\n",
       "</div>"
      ],
      "text/plain": [
       "   Predicted Diagnosis\n",
       "0                    0\n",
       "1                    0\n",
       "2                    0\n",
       "3                    0\n",
       "4                    0\n",
       "5                    0\n",
       "6                    0\n",
       "7                    0\n",
       "8                    1\n",
       "9                    0"
      ]
     },
     "execution_count": 54,
     "metadata": {},
     "output_type": "execute_result"
    }
   ],
   "source": [
    "#Prediction using KNN\n",
    "clf=neighbors.KNeighborsClassifier(n_neighbors=3)\n",
    "model=clf.fit(X, y)\n",
    "y_pred=model.predict(X2)\n",
    "df6=df1\n",
    "df7=pd.DataFrame(y_pred)\n",
    "pred_diag={0:'Predicted Diagnosis'}\n",
    "df7.rename(pred_diag, axis=1, inplace=True)\n",
    "df7.head(10)"
   ]
  },
  {
   "cell_type": "code",
   "execution_count": 55,
   "metadata": {},
   "outputs": [
    {
     "data": {
      "text/plain": [
       "0    450\n",
       "1     61\n",
       "Name: Predicted Diagnosis, dtype: int64"
      ]
     },
     "execution_count": 55,
     "metadata": {},
     "output_type": "execute_result"
    }
   ],
   "source": [
    "df7['Predicted Diagnosis'].value_counts()"
   ]
  },
  {
   "cell_type": "markdown",
   "metadata": {},
   "source": [
    "Prediction of diagnosis using KNN 61 have PCOS/PCOD where as 450 have no PCOD/PCOS."
   ]
  },
  {
   "cell_type": "code",
   "execution_count": 61,
   "metadata": {},
   "outputs": [
    {
     "data": {
      "text/plain": [
       "Text(0.5,1,'Barplot for predicted diagnosis using KNN')"
      ]
     },
     "execution_count": 61,
     "metadata": {},
     "output_type": "execute_result"
    },
    {
     "data": {
      "image/png": "[encoded data removed]",
      "text/plain": [
       "<matplotlib.figure.Figure at 0x18becb29e80>"
      ]
     },
     "metadata": {},
     "output_type": "display_data"
    }
   ],
   "source": [
    "sns.countplot(df7['Predicted Diagnosis'])\n",
    "plt.title('Barplot for predicted diagnosis using KNN', fontsize = 15)"
   ]
  },
  {
   "cell_type": "markdown",
   "metadata": {},
   "source": [
    ">In the prediction of diagnosis, 1 denotes a female with PCOS/PCOD and 0 denotes a female with no PCOD/PCOS"
   ]
  },
  {
   "cell_type": "code",
   "execution_count": 57,
   "metadata": {},
   "outputs": [
    {
     "data": {
      "text/html": [
       "<div>\n",
       "<style scoped>\n",
       "    .dataframe tbody tr th:only-of-type {\n",
       "        vertical-align: middle;\n",
       "    }\n",
       "\n",
       "    .dataframe tbody tr th {\n",
       "        vertical-align: top;\n",
       "    }\n",
       "\n",
       "    .dataframe thead th {\n",
       "        text-align: right;\n",
       "    }\n",
       "</style>\n",
       "<table border=\"1\" class=\"dataframe\">\n",
       "  <thead>\n",
       "    <tr style=\"text-align: right;\">\n",
       "      <th></th>\n",
       "      <th>age</th>\n",
       "      <th>body_type</th>\n",
       "      <th>scanning</th>\n",
       "      <th>before_period</th>\n",
       "      <th>irregular_period</th>\n",
       "      <th>painful_period</th>\n",
       "      <th>bleeding</th>\n",
       "      <th>period_cycle</th>\n",
       "      <th>period_duration</th>\n",
       "      <th>period_pain</th>\n",
       "      <th>...</th>\n",
       "      <th>exercise</th>\n",
       "      <th>Hereditary</th>\n",
       "      <th>diabetes</th>\n",
       "      <th>hypothyroidism</th>\n",
       "      <th>hair_growth</th>\n",
       "      <th>acne</th>\n",
       "      <th>marital_status</th>\n",
       "      <th>kids</th>\n",
       "      <th>work</th>\n",
       "      <th>Predicted Diagnosis</th>\n",
       "    </tr>\n",
       "  </thead>\n",
       "  <tbody>\n",
       "    <tr>\n",
       "      <th>0</th>\n",
       "      <td>0.0</td>\n",
       "      <td>1.0</td>\n",
       "      <td>2.0</td>\n",
       "      <td>5.0</td>\n",
       "      <td>1.0</td>\n",
       "      <td>1.0</td>\n",
       "      <td>1.0</td>\n",
       "      <td>0.0</td>\n",
       "      <td>1.0</td>\n",
       "      <td>3.0</td>\n",
       "      <td>...</td>\n",
       "      <td>0.0</td>\n",
       "      <td>0.0</td>\n",
       "      <td>0.0</td>\n",
       "      <td>0.0</td>\n",
       "      <td>0.0</td>\n",
       "      <td>0.0</td>\n",
       "      <td>2.0</td>\n",
       "      <td>3.0</td>\n",
       "      <td>3.0</td>\n",
       "      <td>0.0</td>\n",
       "    </tr>\n",
       "    <tr>\n",
       "      <th>1</th>\n",
       "      <td>0.0</td>\n",
       "      <td>1.0</td>\n",
       "      <td>2.0</td>\n",
       "      <td>0.0</td>\n",
       "      <td>0.0</td>\n",
       "      <td>1.0</td>\n",
       "      <td>0.0</td>\n",
       "      <td>0.0</td>\n",
       "      <td>2.0</td>\n",
       "      <td>1.0</td>\n",
       "      <td>...</td>\n",
       "      <td>1.0</td>\n",
       "      <td>0.0</td>\n",
       "      <td>0.0</td>\n",
       "      <td>0.0</td>\n",
       "      <td>0.0</td>\n",
       "      <td>0.0</td>\n",
       "      <td>2.0</td>\n",
       "      <td>3.0</td>\n",
       "      <td>3.0</td>\n",
       "      <td>0.0</td>\n",
       "    </tr>\n",
       "    <tr>\n",
       "      <th>2</th>\n",
       "      <td>0.0</td>\n",
       "      <td>1.0</td>\n",
       "      <td>2.0</td>\n",
       "      <td>6.0</td>\n",
       "      <td>0.0</td>\n",
       "      <td>0.0</td>\n",
       "      <td>0.0</td>\n",
       "      <td>0.0</td>\n",
       "      <td>1.0</td>\n",
       "      <td>1.0</td>\n",
       "      <td>...</td>\n",
       "      <td>0.0</td>\n",
       "      <td>0.0</td>\n",
       "      <td>0.0</td>\n",
       "      <td>0.0</td>\n",
       "      <td>0.0</td>\n",
       "      <td>0.0</td>\n",
       "      <td>2.0</td>\n",
       "      <td>3.0</td>\n",
       "      <td>3.0</td>\n",
       "      <td>0.0</td>\n",
       "    </tr>\n",
       "    <tr>\n",
       "      <th>3</th>\n",
       "      <td>0.0</td>\n",
       "      <td>0.0</td>\n",
       "      <td>2.0</td>\n",
       "      <td>5.0</td>\n",
       "      <td>1.0</td>\n",
       "      <td>1.0</td>\n",
       "      <td>1.0</td>\n",
       "      <td>0.0</td>\n",
       "      <td>0.0</td>\n",
       "      <td>3.0</td>\n",
       "      <td>...</td>\n",
       "      <td>0.0</td>\n",
       "      <td>0.0</td>\n",
       "      <td>0.0</td>\n",
       "      <td>0.0</td>\n",
       "      <td>0.0</td>\n",
       "      <td>0.0</td>\n",
       "      <td>2.0</td>\n",
       "      <td>3.0</td>\n",
       "      <td>3.0</td>\n",
       "      <td>0.0</td>\n",
       "    </tr>\n",
       "    <tr>\n",
       "      <th>4</th>\n",
       "      <td>0.0</td>\n",
       "      <td>2.0</td>\n",
       "      <td>3.0</td>\n",
       "      <td>2.0</td>\n",
       "      <td>0.0</td>\n",
       "      <td>0.0</td>\n",
       "      <td>1.0</td>\n",
       "      <td>0.0</td>\n",
       "      <td>0.0</td>\n",
       "      <td>1.0</td>\n",
       "      <td>...</td>\n",
       "      <td>1.0</td>\n",
       "      <td>0.0</td>\n",
       "      <td>0.0</td>\n",
       "      <td>0.0</td>\n",
       "      <td>0.0</td>\n",
       "      <td>0.0</td>\n",
       "      <td>2.0</td>\n",
       "      <td>3.0</td>\n",
       "      <td>3.0</td>\n",
       "      <td>0.0</td>\n",
       "    </tr>\n",
       "    <tr>\n",
       "      <th>5</th>\n",
       "      <td>0.0</td>\n",
       "      <td>2.0</td>\n",
       "      <td>2.0</td>\n",
       "      <td>1.0</td>\n",
       "      <td>0.0</td>\n",
       "      <td>1.0</td>\n",
       "      <td>0.0</td>\n",
       "      <td>0.0</td>\n",
       "      <td>1.0</td>\n",
       "      <td>3.0</td>\n",
       "      <td>...</td>\n",
       "      <td>0.0</td>\n",
       "      <td>0.0</td>\n",
       "      <td>0.0</td>\n",
       "      <td>0.0</td>\n",
       "      <td>0.0</td>\n",
       "      <td>0.0</td>\n",
       "      <td>2.0</td>\n",
       "      <td>3.0</td>\n",
       "      <td>3.0</td>\n",
       "      <td>0.0</td>\n",
       "    </tr>\n",
       "    <tr>\n",
       "      <th>6</th>\n",
       "      <td>0.0</td>\n",
       "      <td>1.0</td>\n",
       "      <td>2.0</td>\n",
       "      <td>3.0</td>\n",
       "      <td>0.0</td>\n",
       "      <td>1.0</td>\n",
       "      <td>0.0</td>\n",
       "      <td>0.0</td>\n",
       "      <td>0.0</td>\n",
       "      <td>1.0</td>\n",
       "      <td>...</td>\n",
       "      <td>0.0</td>\n",
       "      <td>0.0</td>\n",
       "      <td>0.0</td>\n",
       "      <td>0.0</td>\n",
       "      <td>0.0</td>\n",
       "      <td>0.0</td>\n",
       "      <td>2.0</td>\n",
       "      <td>3.0</td>\n",
       "      <td>3.0</td>\n",
       "      <td>0.0</td>\n",
       "    </tr>\n",
       "    <tr>\n",
       "      <th>8</th>\n",
       "      <td>0.0</td>\n",
       "      <td>1.0</td>\n",
       "      <td>3.0</td>\n",
       "      <td>6.0</td>\n",
       "      <td>0.0</td>\n",
       "      <td>0.0</td>\n",
       "      <td>0.0</td>\n",
       "      <td>0.0</td>\n",
       "      <td>1.0</td>\n",
       "      <td>0.0</td>\n",
       "      <td>...</td>\n",
       "      <td>0.0</td>\n",
       "      <td>0.0</td>\n",
       "      <td>0.0</td>\n",
       "      <td>0.0</td>\n",
       "      <td>0.0</td>\n",
       "      <td>0.0</td>\n",
       "      <td>2.0</td>\n",
       "      <td>3.0</td>\n",
       "      <td>3.0</td>\n",
       "      <td>1.0</td>\n",
       "    </tr>\n",
       "    <tr>\n",
       "      <th>9</th>\n",
       "      <td>0.0</td>\n",
       "      <td>1.0</td>\n",
       "      <td>0.0</td>\n",
       "      <td>5.0</td>\n",
       "      <td>1.0</td>\n",
       "      <td>1.0</td>\n",
       "      <td>1.0</td>\n",
       "      <td>2.0</td>\n",
       "      <td>1.0</td>\n",
       "      <td>1.0</td>\n",
       "      <td>...</td>\n",
       "      <td>0.0</td>\n",
       "      <td>0.0</td>\n",
       "      <td>0.0</td>\n",
       "      <td>0.0</td>\n",
       "      <td>0.0</td>\n",
       "      <td>1.0</td>\n",
       "      <td>2.0</td>\n",
       "      <td>3.0</td>\n",
       "      <td>3.0</td>\n",
       "      <td>0.0</td>\n",
       "    </tr>\n",
       "    <tr>\n",
       "      <th>10</th>\n",
       "      <td>0.0</td>\n",
       "      <td>1.0</td>\n",
       "      <td>1.0</td>\n",
       "      <td>4.0</td>\n",
       "      <td>1.0</td>\n",
       "      <td>1.0</td>\n",
       "      <td>1.0</td>\n",
       "      <td>0.0</td>\n",
       "      <td>1.0</td>\n",
       "      <td>3.0</td>\n",
       "      <td>...</td>\n",
       "      <td>0.0</td>\n",
       "      <td>0.0</td>\n",
       "      <td>0.0</td>\n",
       "      <td>0.0</td>\n",
       "      <td>1.0</td>\n",
       "      <td>0.0</td>\n",
       "      <td>2.0</td>\n",
       "      <td>3.0</td>\n",
       "      <td>3.0</td>\n",
       "      <td>0.0</td>\n",
       "    </tr>\n",
       "    <tr>\n",
       "      <th>11</th>\n",
       "      <td>0.0</td>\n",
       "      <td>1.0</td>\n",
       "      <td>2.0</td>\n",
       "      <td>6.0</td>\n",
       "      <td>0.0</td>\n",
       "      <td>1.0</td>\n",
       "      <td>0.0</td>\n",
       "      <td>0.0</td>\n",
       "      <td>0.0</td>\n",
       "      <td>1.0</td>\n",
       "      <td>...</td>\n",
       "      <td>1.0</td>\n",
       "      <td>0.0</td>\n",
       "      <td>0.0</td>\n",
       "      <td>0.0</td>\n",
       "      <td>0.0</td>\n",
       "      <td>0.0</td>\n",
       "      <td>2.0</td>\n",
       "      <td>3.0</td>\n",
       "      <td>3.0</td>\n",
       "      <td>0.0</td>\n",
       "    </tr>\n",
       "    <tr>\n",
       "      <th>12</th>\n",
       "      <td>0.0</td>\n",
       "      <td>3.0</td>\n",
       "      <td>3.0</td>\n",
       "      <td>5.0</td>\n",
       "      <td>1.0</td>\n",
       "      <td>1.0</td>\n",
       "      <td>1.0</td>\n",
       "      <td>1.0</td>\n",
       "      <td>0.0</td>\n",
       "      <td>3.0</td>\n",
       "      <td>...</td>\n",
       "      <td>0.0</td>\n",
       "      <td>0.0</td>\n",
       "      <td>0.0</td>\n",
       "      <td>0.0</td>\n",
       "      <td>0.0</td>\n",
       "      <td>0.0</td>\n",
       "      <td>2.0</td>\n",
       "      <td>3.0</td>\n",
       "      <td>3.0</td>\n",
       "      <td>0.0</td>\n",
       "    </tr>\n",
       "    <tr>\n",
       "      <th>13</th>\n",
       "      <td>0.0</td>\n",
       "      <td>3.0</td>\n",
       "      <td>3.0</td>\n",
       "      <td>5.0</td>\n",
       "      <td>0.0</td>\n",
       "      <td>1.0</td>\n",
       "      <td>0.0</td>\n",
       "      <td>1.0</td>\n",
       "      <td>1.0</td>\n",
       "      <td>1.0</td>\n",
       "      <td>...</td>\n",
       "      <td>0.0</td>\n",
       "      <td>0.0</td>\n",
       "      <td>0.0</td>\n",
       "      <td>1.0</td>\n",
       "      <td>0.0</td>\n",
       "      <td>0.0</td>\n",
       "      <td>2.0</td>\n",
       "      <td>3.0</td>\n",
       "      <td>3.0</td>\n",
       "      <td>0.0</td>\n",
       "    </tr>\n",
       "    <tr>\n",
       "      <th>14</th>\n",
       "      <td>0.0</td>\n",
       "      <td>1.0</td>\n",
       "      <td>2.0</td>\n",
       "      <td>6.0</td>\n",
       "      <td>0.0</td>\n",
       "      <td>1.0</td>\n",
       "      <td>0.0</td>\n",
       "      <td>0.0</td>\n",
       "      <td>1.0</td>\n",
       "      <td>1.0</td>\n",
       "      <td>...</td>\n",
       "      <td>0.0</td>\n",
       "      <td>0.0</td>\n",
       "      <td>0.0</td>\n",
       "      <td>0.0</td>\n",
       "      <td>1.0</td>\n",
       "      <td>0.0</td>\n",
       "      <td>2.0</td>\n",
       "      <td>3.0</td>\n",
       "      <td>3.0</td>\n",
       "      <td>1.0</td>\n",
       "    </tr>\n",
       "    <tr>\n",
       "      <th>15</th>\n",
       "      <td>1.0</td>\n",
       "      <td>1.0</td>\n",
       "      <td>0.0</td>\n",
       "      <td>1.0</td>\n",
       "      <td>1.0</td>\n",
       "      <td>1.0</td>\n",
       "      <td>1.0</td>\n",
       "      <td>0.0</td>\n",
       "      <td>0.0</td>\n",
       "      <td>3.0</td>\n",
       "      <td>...</td>\n",
       "      <td>0.0</td>\n",
       "      <td>1.0</td>\n",
       "      <td>0.0</td>\n",
       "      <td>0.0</td>\n",
       "      <td>1.0</td>\n",
       "      <td>1.0</td>\n",
       "      <td>2.0</td>\n",
       "      <td>3.0</td>\n",
       "      <td>3.0</td>\n",
       "      <td>0.0</td>\n",
       "    </tr>\n",
       "  </tbody>\n",
       "</table>\n",
       "<p>15 rows × 24 columns</p>\n",
       "</div>"
      ],
      "text/plain": [
       "    age  body_type  scanning  before_period  irregular_period  painful_period  \\\n",
       "0   0.0        1.0       2.0            5.0               1.0             1.0   \n",
       "1   0.0        1.0       2.0            0.0               0.0             1.0   \n",
       "2   0.0        1.0       2.0            6.0               0.0             0.0   \n",
       "3   0.0        0.0       2.0            5.0               1.0             1.0   \n",
       "4   0.0        2.0       3.0            2.0               0.0             0.0   \n",
       "5   0.0        2.0       2.0            1.0               0.0             1.0   \n",
       "6   0.0        1.0       2.0            3.0               0.0             1.0   \n",
       "8   0.0        1.0       3.0            6.0               0.0             0.0   \n",
       "9   0.0        1.0       0.0            5.0               1.0             1.0   \n",
       "10  0.0        1.0       1.0            4.0               1.0             1.0   \n",
       "11  0.0        1.0       2.0            6.0               0.0             1.0   \n",
       "12  0.0        3.0       3.0            5.0               1.0             1.0   \n",
       "13  0.0        3.0       3.0            5.0               0.0             1.0   \n",
       "14  0.0        1.0       2.0            6.0               0.0             1.0   \n",
       "15  1.0        1.0       0.0            1.0               1.0             1.0   \n",
       "\n",
       "    bleeding  period_cycle  period_duration  period_pain         ...           \\\n",
       "0        1.0           0.0              1.0          3.0         ...            \n",
       "1        0.0           0.0              2.0          1.0         ...            \n",
       "2        0.0           0.0              1.0          1.0         ...            \n",
       "3        1.0           0.0              0.0          3.0         ...            \n",
       "4        1.0           0.0              0.0          1.0         ...            \n",
       "5        0.0           0.0              1.0          3.0         ...            \n",
       "6        0.0           0.0              0.0          1.0         ...            \n",
       "8        0.0           0.0              1.0          0.0         ...            \n",
       "9        1.0           2.0              1.0          1.0         ...            \n",
       "10       1.0           0.0              1.0          3.0         ...            \n",
       "11       0.0           0.0              0.0          1.0         ...            \n",
       "12       1.0           1.0              0.0          3.0         ...            \n",
       "13       0.0           1.0              1.0          1.0         ...            \n",
       "14       0.0           0.0              1.0          1.0         ...            \n",
       "15       1.0           0.0              0.0          3.0         ...            \n",
       "\n",
       "    exercise  Hereditary  diabetes  hypothyroidism  hair_growth  acne  \\\n",
       "0        0.0         0.0       0.0             0.0          0.0   0.0   \n",
       "1        1.0         0.0       0.0             0.0          0.0   0.0   \n",
       "2        0.0         0.0       0.0             0.0          0.0   0.0   \n",
       "3        0.0         0.0       0.0             0.0          0.0   0.0   \n",
       "4        1.0         0.0       0.0             0.0          0.0   0.0   \n",
       "5        0.0         0.0       0.0             0.0          0.0   0.0   \n",
       "6        0.0         0.0       0.0             0.0          0.0   0.0   \n",
       "8        0.0         0.0       0.0             0.0          0.0   0.0   \n",
       "9        0.0         0.0       0.0             0.0          0.0   1.0   \n",
       "10       0.0         0.0       0.0             0.0          1.0   0.0   \n",
       "11       1.0         0.0       0.0             0.0          0.0   0.0   \n",
       "12       0.0         0.0       0.0             0.0          0.0   0.0   \n",
       "13       0.0         0.0       0.0             1.0          0.0   0.0   \n",
       "14       0.0         0.0       0.0             0.0          1.0   0.0   \n",
       "15       0.0         1.0       0.0             0.0          1.0   1.0   \n",
       "\n",
       "    marital_status  kids  work  Predicted Diagnosis  \n",
       "0              2.0   3.0   3.0                  0.0  \n",
       "1              2.0   3.0   3.0                  0.0  \n",
       "2              2.0   3.0   3.0                  0.0  \n",
       "3              2.0   3.0   3.0                  0.0  \n",
       "4              2.0   3.0   3.0                  0.0  \n",
       "5              2.0   3.0   3.0                  0.0  \n",
       "6              2.0   3.0   3.0                  0.0  \n",
       "8              2.0   3.0   3.0                  1.0  \n",
       "9              2.0   3.0   3.0                  0.0  \n",
       "10             2.0   3.0   3.0                  0.0  \n",
       "11             2.0   3.0   3.0                  0.0  \n",
       "12             2.0   3.0   3.0                  0.0  \n",
       "13             2.0   3.0   3.0                  0.0  \n",
       "14             2.0   3.0   3.0                  1.0  \n",
       "15             2.0   3.0   3.0                  0.0  \n",
       "\n",
       "[15 rows x 24 columns]"
      ]
     },
     "execution_count": 57,
     "metadata": {},
     "output_type": "execute_result"
    }
   ],
   "source": [
    "df8=pd.concat([df6,df7],axis=1)\n",
    "df8=df8.dropna()\n",
    "df8.head(15)"
   ]
  },
  {
   "cell_type": "markdown",
   "metadata": {},
   "source": [
    ">#### 4.Comparing both predictions of diagnosis"
   ]
  },
  {
   "cell_type": "code",
   "execution_count": 58,
   "metadata": {},
   "outputs": [
    {
     "data": {
      "text/plain": [
       "True     485\n",
       "False     26\n",
       "Name: Predicted Diagnosis, dtype: int64"
      ]
     },
     "execution_count": 58,
     "metadata": {},
     "output_type": "execute_result"
    }
   ],
   "source": [
    "df9=df4==df7\n",
    "df9['Predicted Diagnosis'].value_counts()"
   ]
  },
  {
   "cell_type": "markdown",
   "metadata": {},
   "source": [
    ">485 results were predicted the same by both the models\n",
    "\n",
    ">26 results were predicted differently by both the models"
   ]
  },
  {
   "cell_type": "markdown",
   "metadata": {},
   "source": [
    "> ## INFERENCES\n",
    "\n",
    ">•\tThe lengthy column names was renamed to shorter ones.\n",
    "   \n",
    ">•\tRemoving duplicates removed 113 duplicate records and resulted in 763 observations with 27 variables.\n",
    "\n",
    ">•\tDropping ‘male’ and ‘other’ from gender resulted in 723 observations with 27 variables.\n",
    " \n",
    ">•\tRemoval of unwanted columns such as ‘Timestamp’, ’name’, etc resulted in 723 observations with 24 variables. \n",
    " \n",
    ">•\tHandling missing data was done by filling the null values with the variable ‘unknown’.\n",
    " \n",
    ">•\tThe dataset was splitted into 2 data frames. One for training and the other for testing. The observations which had both     dependent and independent variables were added to 1st data frame for testing and the observations with only independent     variables were added to 2nd data frame. The observations in which the response of ‘Didn’t check’ has been added to data     frame 1 for prediction. \n",
    " \n",
    ">•\tThe dataset contained 24  categorical variables and no numerical variables.\n",
    " \n",
    ">•\tThe categorical variables of both the data frames have been converted to numerical by Label Encoding.\n",
    " \n",
    ">•\tThe count of each value of every variables were plotted in a bar graph. \n",
    " \n",
    ">•\tCorrelation heat map has been plotted.\n",
    " \n",
    ">•\tThe relevant features was found to be   'scanning', 'irregular_period', 'bleeding', 'period_cycle', 'stress',      'hair_growth' and 'acne' through the method of correlation with cut-off as 0.2.\n",
    " \n",
    ">•\tThe dataset which have both dependent and independent variable was splitted into Xtrain, ytrain, Xtest and ytest for modelling.\n",
    " \n",
    ">•\tThere were a total of 5 models. They are Naïve Bayesian model, Logistic Regression model, KNN model, Random Forest Classification  model, and Decision Tree model with an accuracy of 88.37%, 90.70%, 90.70%, 88.37% and 86.05% respectively. Confusion matrix for each matrix was plotted.\n",
    " \n",
    ">•\tThe best models were found to be Logistic Regression and KNN with 90.70% of accuracy.\n",
    " \n",
    ">•\tThe diagnosis were predicted for the test data using the models with high accuracy. In the prediction of diagnosis, 1 denotes a female with PCOS/PCOD and 0 denotes a female with no PCOD/PCOS\n",
    "\n",
    "\n",
    ">•Prediction of diagnosis using Logistic Regression 75 have PCOS/PCOD where as 436 have no PCOD/PCOS.\n",
    "\n",
    "\n",
    ">•Prediction of diagnosis using KNN 61 have PCOS/PCOD where as 450 have no PCOD/PCOS.\n",
    " \n",
    " \n",
    ">•\tThe diagnosis predicted by both the Logistic Regression model and KNN model were compared. 485 predictions were predicted the same by both the models and 26 predictions were predicted differently by both the models.\n"
   ]
  }
 ],
 "metadata": {
  "kernelspec": {
   "display_name": "Python 3",
   "language": "python",
   "name": "python3"
  },
  "language_info": {
   "codemirror_mode": {
    "name": "ipython",
    "version": 3
   },
   "file_extension": ".py",
   "mimetype": "text/x-python",
   "name": "python",
   "nbconvert_exporter": "python",
   "pygments_lexer": "ipython3",
   "version": "3.6.4"
  }
 },
 "nbformat": 4,
 "nbformat_minor": 2
}
